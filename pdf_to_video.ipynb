{
 "cells": [
  {
   "cell_type": "code",
   "execution_count": 1,
   "id": "ac7ce030",
   "metadata": {},
   "outputs": [
    {
     "name": "stderr",
     "output_type": "stream",
     "text": [
      "c:\\Users\\hp\\AppData\\Local\\Programs\\Python\\Python312\\Lib\\site-packages\\tqdm\\auto.py:21: TqdmWarning: IProgress not found. Please update jupyter and ipywidgets. See https://ipywidgets.readthedocs.io/en/stable/user_install.html\n",
      "  from .autonotebook import tqdm as notebook_tqdm\n",
      "INFO: pikepdf C++ to Python logger bridge initialized\n",
      "INFO: Reading PDF for file: scr.pdf ...\n"
     ]
    }
   ],
   "source": [
    "from langchain_unstructured import UnstructuredLoader\n",
    "loader_local = UnstructuredLoader(\n",
    "    file_path=\"scr.pdf\",\n",
    "    strategy=\"hi_res\",\n",
    ")\n",
    "docs_local = []\n",
    "for doc in loader_local.lazy_load():\n",
    "    docs_local.append(doc)"
   ]
  },
  {
   "cell_type": "code",
   "execution_count": 10,
   "id": "2b1e2567",
   "metadata": {},
   "outputs": [
    {
     "data": {
      "text/plain": [
       "137"
      ]
     },
     "execution_count": 10,
     "metadata": {},
     "output_type": "execute_result"
    }
   ],
   "source": [
    "len(docs_local)"
   ]
  },
  {
   "cell_type": "code",
   "execution_count": 8,
   "id": "190a956a",
   "metadata": {},
   "outputs": [
    {
     "name": "stdout",
     "output_type": "stream",
     "text": [
      "[Document(metadata={'source': 'scr.pdf', 'detection_class_prob': 0.5372682809829712, 'coordinates': {'points': ((np.float64(475.09375), np.float64(385.0956232)), (np.float64(475.09375), np.float64(638.4495731999998)), (np.float64(1771.6287841796875), np.float64(638.4495731999998)), (np.float64(1771.6287841796875), np.float64(385.0956232))), 'system': 'PixelSpace', 'layout_width': 2200, 'layout_height': 1700}, 'last_modified': '2025-06-20T20:05:25', 'filetype': 'application/pdf', 'languages': ['eng'], 'page_number': 1, 'filename': 'scr.pdf', 'category': 'Title', 'element_id': '869444c6ec8cc84d1a13114a1379c3d3'}, page_content='Social Responsibilities of Business'), Document(metadata={'source': 'scr.pdf', 'detection_class_prob': 0.5192918181419373, 'coordinates': {'points': ((np.float64(191.4513397216797), np.float64(132.14817810058594)), (np.float64(191.4513397216797), np.float64(338.28213416000006)), (np.float64(2040.4267578125), np.float64(338.28213416000006)), (np.float64(2040.4267578125), np.float64(132.14817810058594))), 'system': 'PixelSpace', 'layout_width': 2200, 'layout_height': 1700}, 'last_modified': '2025-06-20T20:05:25', 'filetype': 'application/pdf', 'languages': ['eng'], 'page_number': 2, 'parent_id': '869444c6ec8cc84d1a13114a1379c3d3', 'filename': 'scr.pdf', 'category': 'NarrativeText', 'element_id': 'f3b2992b12217d77329780d4e5123679'}, page_content='•Social responsibility is a doctrine that claims that an entity whether it is state, government, corporation, organisation or individual, has a responsibility to society'), Document(metadata={'source': 'scr.pdf', 'detection_class_prob': 0.9046509265899658, 'coordinates': {'points': ((np.float64(201.5856170654297), np.float64(361.87811279296875)), (np.float64(201.5856170654297), np.float64(481.30463416)), (np.float64(2033.7226723673334), np.float64(481.30463416)), (np.float64(2033.7226723673334), np.float64(361.87811279296875))), 'system': 'PixelSpace', 'layout_width': 2200, 'layout_height': 1700}, 'last_modified': '2025-06-20T20:05:25', 'filetype': 'application/pdf', 'languages': ['eng'], 'page_number': 2, 'parent_id': '869444c6ec8cc84d1a13114a1379c3d3', 'filename': 'scr.pdf', 'category': 'ListItem', 'element_id': '4e2e6dff97332d0b89e713e05fee1659'}, page_content='•Meaning of Social Responsibility:Adolph Berle has defined social responsibility as the manager‟s responsiveness to public consensus'), Document(metadata={'source': 'scr.pdf', 'detection_class_prob': 0.9170405268669128, 'coordinates': {'points': ((np.float64(200.89027404785156), np.float64(587.5498463822222)), (np.float64(200.89027404785156), np.float64(828.6446341599999)), (np.float64(2043.154296875), np.float64(828.6446341599999)), (np.float64(2043.154296875), np.float64(587.5498463822222))), 'system': 'PixelSpace', 'layout_width': 2200, 'layout_height': 1700}, 'last_modified': '2025-06-20T20:05:25', 'filetype': 'application/pdf', 'languages': ['eng'], 'page_number': 2, 'parent_id': '869444c6ec8cc84d1a13114a1379c3d3', 'filename': 'scr.pdf', 'category': 'ListItem', 'element_id': '7df4b9fbee7d9c5d9f36a43f3abb4510'}, page_content='•These would be determined and would vary from case to case according to the customs, religions, traditions, level of industrialization and a host of other norms and standards about which there is a public consensus at any given time in a given society.'), Document(metadata={'source': 'scr.pdf', 'detection_class_prob': 0.8862659335136414, 'coordinates': {'points': ((np.float64(194.94859313964844), np.float64(120.79108428955078)), (np.float64(194.94859313964844), np.float64(242.25296749333341)), (np.float64(2040.8040771484375), np.float64(242.25296749333341)), (np.float64(2040.8040771484375), np.float64(120.79108428955078))), 'system': 'PixelSpace', 'layout_width': 2200, 'layout_height': 1700}, 'last_modified': '2025-06-20T20:05:25', 'filetype': 'application/pdf', 'languages': ['eng'], 'page_number': 3, 'parent_id': '869444c6ec8cc84d1a13114a1379c3d3', 'filename': 'scr.pdf', 'category': 'ListItem', 'element_id': 'b3d6c3c04ed98572fd57741ec19cba44'}, page_content='•According to Keith Davis, the term social responsibility refers to two types of business obligations:'), Document(metadata={'source': 'scr.pdf', 'detection_class_prob': 0.9130924344062805, 'coordinates': {'points': ((np.float64(199.9425506591797), np.float64(264.4253234863281)), (np.float64(199.9425506591797), np.float64(446.570745271111)), (np.float64(2037.8181879855563), np.float64(446.570745271111)), (np.float64(2037.8181879855563), np.float64(264.4253234863281))), 'system': 'PixelSpace', 'layout_width': 2200, 'layout_height': 1700}, 'last_modified': '2025-06-20T20:05:25', 'filetype': 'application/pdf', 'languages': ['eng'], 'page_number': 3, 'parent_id': '869444c6ec8cc84d1a13114a1379c3d3', 'filename': 'scr.pdf', 'category': 'ListItem', 'element_id': 'f62071c37fdba55e67f693f7ed265595'}, page_content='•The socio-economic obligation: . Business should be carried out in such a manner that it becomes a profitable venture for everyone from the employees, investors, consumers, to the government and the general public.'), Document(metadata={'source': 'scr.pdf', 'detection_class_prob': 0.8257320523262024, 'coordinates': {'points': ((np.float64(201.58299255371094), np.float64(469.2223815917969)), (np.float64(201.58299255371094), np.float64(528.2976897155555)), (np.float64(903.3168334960938), np.float64(528.2976897155555)), (np.float64(903.3168334960938), np.float64(469.2223815917969))), 'system': 'PixelSpace', 'layout_width': 2200, 'layout_height': 1700}, 'last_modified': '2025-06-20T20:05:25', 'filetype': 'application/pdf', 'languages': ['eng'], 'page_number': 3, 'parent_id': '869444c6ec8cc84d1a13114a1379c3d3', 'filename': 'scr.pdf', 'category': 'ListItem', 'element_id': 'f0c0a6f643df61c9aa133070195a3b30'}, page_content='•The socio-human obligation:'), Document(metadata={'source': 'scr.pdf', 'detection_class_prob': 0.9132031798362732, 'coordinates': {'points': ((np.float64(191.69970703125), np.float64(547.5645751953125)), (np.float64(191.69970703125), np.float64(732.6154674933333)), (np.float64(2037.7649577262214), np.float64(732.6154674933333)), (np.float64(2037.7649577262214), np.float64(547.5645751953125))), 'system': 'PixelSpace', 'layout_width': 2200, 'layout_height': 1700}, 'last_modified': '2025-06-20T20:05:25', 'filetype': 'application/pdf', 'languages': ['eng'], 'page_number': 3, 'parent_id': '869444c6ec8cc84d1a13114a1379c3d3', 'filename': 'scr.pdf', 'category': 'ListItem', 'element_id': '579c777b761e6792f671b46467e71a2e'}, page_content='•The socio-human obligation of every business is to nurture and develop human values (such as morale, cooperation, motivation and self-realization in work'), Document(metadata={'source': 'scr.pdf', 'detection_class_prob': 0.9046643972396851, 'coordinates': {'points': ((np.float64(194.1808624267578), np.float64(838.8606797155555)), (np.float64(194.1808624267578), np.float64(957.3649119377778)), (np.float64(2037.764957726222), np.float64(957.3649119377778)), (np.float64(2037.764957726222), np.float64(838.8606797155555))), 'system': 'PixelSpace', 'layout_width': 2200, 'layout_height': 1700}, 'last_modified': '2025-06-20T20:05:25', 'filetype': 'application/pdf', 'languages': ['eng'], 'page_number': 3, 'parent_id': '869444c6ec8cc84d1a13114a1379c3d3', 'filename': 'scr.pdf', 'category': 'ListItem', 'element_id': '4221a16733f67519ecc5f7c031323c1c'}, page_content='•The businessman should, therefore, consider the impact of his actions on all to which he is related'), Document(metadata={'source': 'scr.pdf', 'detection_class_prob': 0.8995270729064941, 'coordinates': {'points': ((np.float64(188.05691528320312), np.float64(980.292724609375)), (np.float64(188.05691528320312), np.float64(1100.3871341599997)), (np.float64(2037.742074144444), np.float64(1100.3871341599997)), (np.float64(2037.742074144444), np.float64(980.292724609375))), 'system': 'PixelSpace', 'layout_width': 2200, 'layout_height': 1700}, 'last_modified': '2025-06-20T20:05:25', 'filetype': 'application/pdf', 'languages': ['eng'], 'page_number': 3, 'parent_id': '869444c6ec8cc84d1a13114a1379c3d3', 'filename': 'scr.pdf', 'category': 'ListItem', 'element_id': 'efe3234723a51921cf25c8eeb01ba2cf'}, page_content='•His task is to mediate among these interests, to ensure that each gets a square deal and that nobody‟s interests are unduly sacrificed to those of others.'), Document(metadata={'source': 'scr.pdf', 'detection_class_prob': 0.7612817287445068, 'coordinates': {'points': ((np.float64(258.2111111111111), np.float64(140.47998046875)), (np.float64(258.2111111111111), np.float64(236.37418701333323)), (np.float64(1562.4840087890625), np.float64(236.37418701333323)), (np.float64(1562.4840087890625), np.float64(140.47998046875))), 'system': 'PixelSpace', 'layout_width': 2200, 'layout_height': 1700}, 'last_modified': '2025-06-20T20:05:25', 'filetype': 'application/pdf', 'languages': ['eng'], 'page_number': 4, 'filename': 'scr.pdf', 'category': 'Title', 'element_id': 'a298e655126c67d9870ee7232b9c2742'}, page_content='Definition of Social Responsibility'), Document(metadata={'source': 'scr.pdf', 'detection_class_prob': 0.9029539823532104, 'coordinates': {'points': ((np.float64(168.73504638671875), np.float64(295.4162902832031)), (np.float64(168.73504638671875), np.float64(477.21824527111113)), (np.float64(2031.6681165680004), np.float64(477.21824527111113)), (np.float64(2031.6681165680004), np.float64(295.4162902832031))), 'system': 'PixelSpace', 'layout_width': 2200, 'layout_height': 1700}, 'last_modified': '2025-06-20T20:05:25', 'filetype': 'application/pdf', 'languages': ['eng'], 'page_number': 4, 'parent_id': 'a298e655126c67d9870ee7232b9c2742', 'filename': 'scr.pdf', 'category': 'ListItem', 'element_id': '494a9d767a17ae826127eb673013c0c1'}, page_content='•“Social responsibilities refer to the businessman‟s decisions and actions taken to reasons at least partially beyond the firm‟s direct economic or technical interest.”'), Document(metadata={'source': 'scr.pdf', 'detection_class_prob': 0.9560847878456116, 'coordinates': {'points': ((np.float64(187.14572143554688), np.float64(583.4634574933332)), (np.float64(187.14572143554688), np.float64(885.8538008266667)), (np.float64(2036.1168212890625), np.float64(885.8538008266667)), (np.float64(2036.1168212890625), np.float64(583.4634574933332))), 'system': 'PixelSpace', 'layout_width': 2200, 'layout_height': 1700}, 'last_modified': '2025-06-20T20:05:25', 'filetype': 'application/pdf', 'languages': ['eng'], 'page_number': 4, 'parent_id': 'a298e655126c67d9870ee7232b9c2742', 'filename': 'scr.pdf', 'category': 'ListItem', 'element_id': '6d6c23410a7f460fc36bd15f5c34b5c2'}, page_content='•“By social responsibility, we mean the intelligent and objective concern for the welfare of society that restrains individual and corporate behaviour from ultimately destructive activities, no matter how immediately profitable and leads in the direction of positive contributions to human betterment, variously as the latter may be defined.”'), Document(metadata={'source': 'scr.pdf', 'detection_class_prob': 0.8626120686531067, 'coordinates': {'points': ((np.float64(276.5996944444444), np.float64(162.8196792355554)), (np.float64(276.5996944444444), np.float64(252.71946479111085)), (np.float64(1088.260498046875), np.float64(252.71946479111085)), (np.float64(1088.260498046875), np.float64(162.8196792355554))), 'system': 'PixelSpace', 'layout_width': 2200, 'layout_height': 1700}, 'last_modified': '2025-06-20T20:05:25', 'filetype': 'application/pdf', 'languages': ['eng'], 'page_number': 5, 'filename': 'scr.pdf', 'category': 'Title', 'element_id': '57fad98961cea385072082b5e84606f0'}, page_content='The Interested Groups'), Document(metadata={'source': 'scr.pdf', 'detection_class_prob': 0.9255804419517517, 'coordinates': {'points': ((np.float64(256.3772277832031), np.float64(274.112548828125)), (np.float64(256.3772277832031), np.float64(456.7865786044444)), (np.float64(1958.313232421875), np.float64(456.7865786044444)), (np.float64(1958.313232421875), np.float64(274.112548828125))), 'system': 'PixelSpace', 'layout_width': 2200, 'layout_height': 1700}, 'last_modified': '2025-06-20T20:05:25', 'filetype': 'application/pdf', 'languages': ['eng'], 'page_number': 5, 'parent_id': '57fad98961cea385072082b5e84606f0', 'filename': 'scr.pdf', 'category': 'ListItem', 'element_id': 'c1accb6441639d9e3edbcc7ba899bc16'}, page_content='•Normally various groups associated with a business organisation are shareholders, workers, customers, creditors, suppliers, government and society in general.'), Document(metadata={'source': 'scr.pdf', 'detection_class_prob': 0.8293212652206421, 'coordinates': {'points': ((np.float64(276.5996944444444), np.float64(476.0633239746094)), (np.float64(276.5996944444444), np.float64(540.5515747070312)), (np.float64(1743.0635262035548), np.float64(540.5515747070312)), (np.float64(1743.0635262035548), np.float64(476.0633239746094))), 'system': 'PixelSpace', 'layout_width': 2200, 'layout_height': 1700}, 'last_modified': '2025-06-20T20:05:25', 'filetype': 'application/pdf', 'languages': ['eng'], 'page_number': 5, 'parent_id': '57fad98961cea385072082b5e84606f0', 'filename': 'scr.pdf', 'category': 'ListItem', 'element_id': '2049a554fee626d0117fb74b8cc0e65d'}, page_content='•The management owes responsibility towards all these groups.'), Document(metadata={'source': 'scr.pdf', 'detection_class_prob': 0.9152030348777771, 'coordinates': {'points': ((np.float64(266.1695251464844), np.float64(563.0317908266666)), (np.float64(266.1695251464844), np.float64(681.5360230488889)), (np.float64(1957.5379638671875), np.float64(681.5360230488889)), (np.float64(1957.5379638671875), np.float64(563.0317908266666))), 'system': 'PixelSpace', 'layout_width': 2200, 'layout_height': 1700}, 'last_modified': '2025-06-20T20:05:25', 'filetype': 'application/pdf', 'languages': ['eng'], 'page_number': 5, 'parent_id': '57fad98961cea385072082b5e84606f0', 'filename': 'scr.pdf', 'category': 'ListItem', 'element_id': '9a0c22da389bbec40aa1f61f6a2979e5'}, page_content='• Therefore, the management should show a standardised norm of behaviour.'), Document(metadata={'source': 'scr.pdf', 'detection_class_prob': 0.8543525338172913, 'coordinates': {'points': ((np.float64(249.8057861328125), np.float64(703.0753784179688)), (np.float64(249.8057861328125), np.float64(763.4867553710938)), (np.float64(1782.374755859375), np.float64(763.4867553710938)), (np.float64(1782.374755859375), np.float64(703.0753784179688))), 'system': 'PixelSpace', 'layout_width': 2200, 'layout_height': 1700}, 'last_modified': '2025-06-20T20:05:25', 'filetype': 'application/pdf', 'languages': ['eng'], 'page_number': 5, 'parent_id': '57fad98961cea385072082b5e84606f0', 'filename': 'scr.pdf', 'category': 'ListItem', 'element_id': 'e8ede8506131c24d3d6b301f306b220b'}, page_content='• However, the standard norm of behaviour may not be universal.'), Document(metadata={'source': 'scr.pdf', 'detection_class_prob': 0.6435056328773499, 'coordinates': {'points': ((np.float64(209.17486111111108), np.float64(106.00086975097656)), (np.float64(209.17486111111108), np.float64(185.5926513671875)), (np.float64(659.0066528320312), np.float64(185.5926513671875)), (np.float64(659.0066528320312), np.float64(106.00086975097656))), 'system': 'PixelSpace', 'layout_width': 2200, 'layout_height': 1700}, 'last_modified': '2025-06-20T20:05:25', 'filetype': 'application/pdf', 'languages': ['eng'], 'page_number': 6, 'filename': 'scr.pdf', 'category': 'Title', 'element_id': '36c98aa8e136fa7bdb7e44c2578a1144'}, page_content='•Share Holders'), Document(metadata={'source': 'scr.pdf', 'detection_class_prob': 0.8781083822250366, 'coordinates': {'points': ((np.float64(192.4447021484375), np.float64(206.3472137451172)), (np.float64(192.4447021484375), np.float64(326.0232452711111)), (np.float64(2037.7829274055557), np.float64(326.0232452711111)), (np.float64(2037.7829274055557), np.float64(206.3472137451172))), 'system': 'PixelSpace', 'layout_width': 2200, 'layout_height': 1700}, 'last_modified': '2025-06-20T20:05:25', 'filetype': 'application/pdf', 'languages': ['eng'], 'page_number': 6, 'parent_id': '36c98aa8e136fa7bdb7e44c2578a1144', 'filename': 'scr.pdf', 'category': 'ListItem', 'element_id': 'f7a2c070be915fcbcb22c3b833a7b59e'}, page_content='•The first responsibility of management is to protect the interest of shareholders.'), Document(metadata={'source': 'scr.pdf', 'detection_class_prob': 0.9014716744422913, 'coordinates': {'points': ((np.float64(195.28717041015625), np.float64(346.97991943359375)), (np.float64(195.28717041015625), np.float64(530.3407452711111)), (np.float64(2037.7428811374439), np.float64(530.3407452711111)), (np.float64(2037.7428811374439), np.float64(346.97991943359375))), 'system': 'PixelSpace', 'layout_width': 2200, 'layout_height': 1700}, 'last_modified': '2025-06-20T20:05:25', 'filetype': 'application/pdf', 'languages': ['eng'], 'page_number': 6, 'parent_id': '36c98aa8e136fa7bdb7e44c2578a1144', 'filename': 'scr.pdf', 'category': 'ListItem', 'element_id': '8ca9f46b5ab1398bf1aed7891358f854'}, page_content='•The interests of majority of shareholders and large minority of shareholders are generally well protected through either direct participation in the management actions or they have real power to intervene, if necessary.'), Document(metadata={'source': 'scr.pdf', 'detection_class_prob': 0.9237234592437744, 'coordinates': {'points': ((np.float64(199.60720825195312), np.float64(554.8590130488888)), (np.float64(199.60720825195312), np.float64(734.6585230488888)), (np.float64(2037.747922768666), np.float64(734.6585230488888)), (np.float64(2037.747922768666), np.float64(554.8590130488888))), 'system': 'PixelSpace', 'layout_width': 2200, 'layout_height': 1700}, 'last_modified': '2025-06-20T20:05:25', 'filetype': 'application/pdf', 'languages': ['eng'], 'page_number': 6, 'parent_id': '36c98aa8e136fa7bdb7e44c2578a1144', 'filename': 'scr.pdf', 'category': 'ListItem', 'element_id': '78314cc1545b2ace186e1a9e85cd2a21'}, page_content='• However, large numbers of minority shareholders are not in such a position. Therefore, management is expected to use the resources provided by them effectively and to protect their interests.'), Document(metadata={'source': 'scr.pdf', 'detection_class_prob': 0.9034271836280823, 'coordinates': {'points': ((np.float64(192.35702514648438), np.float64(756.9644165039062)), (np.float64(192.35702514648438), np.float64(877.6810230488887)), (np.float64(2037.8049600924446), np.float64(877.6810230488887)), (np.float64(2037.8049600924446), np.float64(756.9644165039062))), 'system': 'PixelSpace', 'layout_width': 2200, 'layout_height': 1700}, 'last_modified': '2025-06-20T20:05:25', 'filetype': 'application/pdf', 'languages': ['eng'], 'page_number': 6, 'parent_id': '36c98aa8e136fa7bdb7e44c2578a1144', 'filename': 'scr.pdf', 'category': 'ListItem', 'element_id': '933503212b480f040460847658d55ee2'}, page_content='•They should be informed about the functioning of the organisation adequately and timely.'), Document(metadata={'source': 'scr.pdf', 'detection_class_prob': 0.9370113015174866, 'coordinates': {'points': ((np.float64(189.63868713378906), np.float64(899.9008178710938)), (np.float64(189.63868713378906), np.float64(1146.8212890625)), (np.float64(2038.5828857421875), np.float64(1146.8212890625)), (np.float64(2038.5828857421875), np.float64(899.9008178710938))), 'system': 'PixelSpace', 'layout_width': 2200, 'layout_height': 1700}, 'last_modified': '2025-06-20T20:05:25', 'filetype': 'application/pdf', 'languages': ['eng'], 'page_number': 6, 'parent_id': '36c98aa8e136fa7bdb7e44c2578a1144', 'filename': 'scr.pdf', 'category': 'ListItem', 'element_id': '2f02a359d74058db7be0f0f85a8ddc6b'}, page_content='• Though the provisions of the Companies Act provide safeguard to the investment made by shareholders, whether minority or otherwise, management can find loopholes in these. Therefore, management has a responsibility to provide proper safeguard to the money invested by'), Document(metadata={'source': 'scr.pdf', 'coordinates': {'points': ((np.float64(245.95202777777777), np.float64(1147.3804019377776)), (np.float64(245.95202777777777), np.float64(1204.5893563822221)), (np.float64(549.3654385693334), np.float64(1204.5893563822221)), (np.float64(549.3654385693334), np.float64(1147.3804019377776))), 'system': 'PixelSpace', 'layout_width': 2200, 'layout_height': 1700}, 'last_modified': '2025-06-20T20:05:25', 'filetype': 'application/pdf', 'languages': ['eng'], 'page_number': 6, 'filename': 'scr.pdf', 'category': 'Title', 'element_id': '7b66ed6dbdff898c9a20d27930e6e831'}, page_content='shareholders.'), Document(metadata={'source': 'scr.pdf', 'detection_class_prob': 0.895865797996521, 'coordinates': {'points': ((np.float64(176.5453338623047), np.float64(83.78137969970703)), (np.float64(176.5453338623047), np.float64(203.43268971555548)), (np.float64(2050.0734427947777), np.float64(203.43268971555548)), (np.float64(2050.0734427947777), np.float64(83.78137969970703))), 'system': 'PixelSpace', 'layout_width': 2200, 'layout_height': 1700}, 'last_modified': '2025-06-20T20:05:25', 'filetype': 'application/pdf', 'languages': ['eng'], 'page_number': 7, 'parent_id': '7b66ed6dbdff898c9a20d27930e6e831', 'filename': 'scr.pdf', 'category': 'ListItem', 'element_id': '08b44923614b1c5833343c41e93cb2a2'}, page_content='•Workers: Workers have a direct interest in an organisation because by working there, they satisfy their needs.'), Document(metadata={'source': 'scr.pdf', 'detection_class_prob': 0.8964697122573853, 'coordinates': {'points': ((np.float64(179.9728240966797), np.float64(224.1827850341797)), (np.float64(179.9728240966797), np.float64(346.4549119377777)), (np.float64(2050.0642543066665), np.float64(346.4549119377777)), (np.float64(2050.0642543066665), np.float64(224.1827850341797))), 'system': 'PixelSpace', 'layout_width': 2200, 'layout_height': 1700}, 'last_modified': '2025-06-20T20:05:25', 'filetype': 'application/pdf', 'languages': ['eng'], 'page_number': 7, 'parent_id': '7b66ed6dbdff898c9a20d27930e6e831', 'filename': 'scr.pdf', 'category': 'ListItem', 'element_id': '6dc371d5e483a437f0d88eafff74511e'}, page_content='•The traditional economic concept of organisational functioning does not give workers their proper share in the distribution of income.'), Document(metadata={'source': 'scr.pdf', 'detection_class_prob': 0.8969486951828003, 'coordinates': {'points': ((np.float64(173.21725463867188), np.float64(370.97317971555555)), (np.float64(173.21725463867188), np.float64(489.4774119377778)), (np.float64(2050.011769497889), np.float64(489.4774119377778)), (np.float64(2050.011769497889), np.float64(370.97317971555555))), 'system': 'PixelSpace', 'layout_width': 2200, 'layout_height': 1700}, 'last_modified': '2025-06-20T20:05:25', 'filetype': 'application/pdf', 'languages': ['eng'], 'page_number': 7, 'parent_id': '7b66ed6dbdff898c9a20d27930e6e831', 'filename': 'scr.pdf', 'category': 'ListItem', 'element_id': 'bcc461067611ffc81d570222119248de'}, page_content='• The owners and managers have too much power under the economic state of affairs.'), Document(metadata={'source': 'scr.pdf', 'detection_class_prob': 0.8642337322235107, 'coordinates': {'points': ((np.float64(181.99851989746094), np.float64(510.26702880859375)), (np.float64(181.99851989746094), np.float64(632.49963416)), (np.float64(2050.0283584846675), np.float64(632.49963416)), (np.float64(2050.0283584846675), np.float64(510.26702880859375))), 'system': 'PixelSpace', 'layout_width': 2200, 'layout_height': 1700}, 'last_modified': '2025-06-20T20:05:25', 'filetype': 'application/pdf', 'languages': ['eng'], 'page_number': 7, 'parent_id': '7b66ed6dbdff898c9a20d27930e6e831', 'filename': 'scr.pdf', 'category': 'ListItem', 'element_id': '017e836f87cba247ffe7b3ae60643faf'}, page_content='• Thus, it is the management‟s responsibility to protect the interest of workers in the organisation.'), Document(metadata={'source': 'scr.pdf', 'detection_class_prob': 0.8617364764213562, 'coordinates': {'points': ((np.float64(182.23655700683594), np.float64(655.1726684570312)), (np.float64(182.23655700683594), np.float64(714.2268563822221)), (np.float64(1755.0816830555555), np.float64(714.2268563822221)), (np.float64(1755.0816830555555), np.float64(655.1726684570312))), 'system': 'PixelSpace', 'layout_width': 2200, 'layout_height': 1700}, 'last_modified': '2025-06-20T20:05:25', 'filetype': 'application/pdf', 'languages': ['eng'], 'page_number': 7, 'parent_id': '7b66ed6dbdff898c9a20d27930e6e831', 'filename': 'scr.pdf', 'category': 'ListItem', 'element_id': '50bbd475c8ca41e06a3caf3f3745b8ec'}, page_content='•The management should treat workers as another wheel of the cart.'), Document(metadata={'source': 'scr.pdf', 'detection_class_prob': 0.9009706377983093, 'coordinates': {'points': ((np.float64(179.39007568359375), np.float64(734.4083251953125)), (np.float64(179.39007568359375), np.float64(857.2490786044443)), (np.float64(2050.0289321842215), np.float64(857.2490786044443)), (np.float64(2050.0289321842215), np.float64(734.4083251953125))), 'system': 'PixelSpace', 'layout_width': 2200, 'layout_height': 1700}, 'last_modified': '2025-06-20T20:05:25', 'filetype': 'application/pdf', 'languages': ['eng'], 'page_number': 7, 'parent_id': '7b66ed6dbdff898c9a20d27930e6e831', 'filename': 'scr.pdf', 'category': 'ListItem', 'element_id': '1e7c5cc0188fb834e6cfb37eaa82f904'}, page_content='•The management should develop administrative process in such a way that promotes cooperative endeavour between employers and employees.'), Document(metadata={'source': 'scr.pdf', 'detection_class_prob': 0.9184532165527344, 'coordinates': {'points': ((np.float64(183.016357421875), np.float64(881.7673463822222)), (np.float64(183.016357421875), np.float64(1061.6221923828125)), (np.float64(2050.044335690334), np.float64(1061.6221923828125)), (np.float64(2050.044335690334), np.float64(881.7673463822222))), 'system': 'PixelSpace', 'layout_width': 2200, 'layout_height': 1700}, 'last_modified': '2025-06-20T20:05:25', 'filetype': 'application/pdf', 'languages': ['eng'], 'page_number': 7, 'parent_id': '7b66ed6dbdff898c9a20d27930e6e831', 'filename': 'scr.pdf', 'category': 'ListItem', 'element_id': 'fd8d99900ff925a30876f4bf451c22a1'}, page_content='• The management should adopt a liberal labour policy based on recognition of genuine trade union rights- involvement of workers in management, creating a sense of belongingness, improving their work and living conditions.'), Document(metadata={'source': 'scr.pdf', 'detection_class_prob': 0.8897335529327393, 'coordinates': {'points': ((np.float64(168.04739379882812), np.float64(114.18399810791016)), (np.float64(168.04739379882812), np.float64(236.12352304888873)), (np.float64(1918.6739501953125), np.float64(236.12352304888873)), (np.float64(1918.6739501953125), np.float64(114.18399810791016))), 'system': 'PixelSpace', 'layout_width': 2200, 'layout_height': 1700}, 'last_modified': '2025-06-20T20:05:25', 'filetype': 'application/pdf', 'languages': ['eng'], 'page_number': 8, 'parent_id': '7b66ed6dbdff898c9a20d27930e6e831', 'filename': 'scr.pdf', 'category': 'ListItem', 'element_id': '1982a034b76a7b01fd02fd009b9f513e'}, page_content='•The management should pay fair and reasonable wages and provide other financial benefits to workers from time to time.'), Document(metadata={'source': 'scr.pdf', 'detection_class_prob': 0.8955617547035217, 'coordinates': {'points': ((np.float64(166.16183471679688), np.float64(260.64151304888884)), (np.float64(166.16183471679688), np.float64(379.1457452711111)), (np.float64(1855.6475830078125), np.float64(379.1457452711111)), (np.float64(1855.6475830078125), np.float64(260.64151304888884))), 'system': 'PixelSpace', 'layout_width': 2200, 'layout_height': 1700}, 'last_modified': '2025-06-20T20:05:25', 'filetype': 'application/pdf', 'languages': ['eng'], 'page_number': 8, 'parent_id': '7b66ed6dbdff898c9a20d27930e6e831', 'filename': 'scr.pdf', 'category': 'ListItem', 'element_id': '1d81d6e44c76ef42ef7fd78198c0d1ab'}, page_content='•Customers: A customer may broadly be defined as a person who has a favourable impression of a company and its products and services.'), Document(metadata={'source': 'scr.pdf', 'detection_class_prob': 0.9176197052001953, 'coordinates': {'points': ((np.float64(160.5904541015625), np.float64(403.146484375)), (np.float64(160.5904541015625), np.float64(583.4635230488889)), (np.float64(2041.785238188666), np.float64(583.4635230488889)), (np.float64(2041.785238188666), np.float64(403.146484375))), 'system': 'PixelSpace', 'layout_width': 2200, 'layout_height': 1700}, 'last_modified': '2025-06-20T20:05:25', 'filetype': 'application/pdf', 'languages': ['eng'], 'page_number': 8, 'parent_id': '7b66ed6dbdff898c9a20d27930e6e831', 'filename': 'scr.pdf', 'category': 'ListItem', 'element_id': '8835fb67bd8399ee01cc92b65456c77a'}, page_content='•Thus, a person may be categorised as customer even though he may not have committed the act of buying; he may be only a potential customer. Management owes a primary obligation to give a fair deal to customers.'), Document(metadata={'source': 'scr.pdf', 'coordinates': {'points': ((np.float64(176.48402777777778), np.float64(607.9815130488888)), (np.float64(176.48402777777778), np.float64(665.1904674933332)), (np.float64(221.03084972222223), np.float64(665.1904674933332)), (np.float64(221.03084972222223), np.float64(607.9815130488888))), 'system': 'PixelSpace', 'layout_width': 2200, 'layout_height': 1700}, 'last_modified': '2025-06-20T20:05:25', 'filetype': 'application/pdf', 'languages': ['eng'], 'page_number': 8, 'parent_id': '7b66ed6dbdff898c9a20d27930e6e831', 'filename': 'scr.pdf', 'category': 'ListItem', 'element_id': 'ab31f521e89df0786f3e3178c18fac23'}, page_content='.'), Document(metadata={'source': 'scr.pdf', 'detection_class_prob': 0.561354398727417, 'coordinates': {'points': ((np.float64(198.95897222222223), np.float64(112.45361328125)), (np.float64(198.95897222222223), np.float64(176.97386169433594)), (np.float64(1535.4956586536666), np.float64(176.97386169433594)), (np.float64(1535.4956586536666), np.float64(112.45361328125))), 'system': 'PixelSpace', 'layout_width': 2200, 'layout_height': 1700}, 'last_modified': '2025-06-20T20:05:25', 'filetype': 'application/pdf', 'languages': ['eng'], 'page_number': 9, 'parent_id': '7b66ed6dbdff898c9a20d27930e6e831', 'filename': 'scr.pdf', 'category': 'ListItem', 'element_id': 'ebeef90e06380b02d3d5519ec59b4b33'}, page_content='•Customers should be charged a fair and reasonable price.'), Document(metadata={'source': 'scr.pdf', 'detection_class_prob': 0.9139402508735657, 'coordinates': {'points': ((np.float64(182.5281982421875), np.float64(199.3462352711112)), (np.float64(182.5281982421875), np.float64(317.85046749333327)), (np.float64(1877.0909423828125), np.float64(317.85046749333327)), (np.float64(1877.0909423828125), np.float64(199.3462352711112))), 'system': 'PixelSpace', 'layout_width': 2200, 'layout_height': 1700}, 'last_modified': '2025-06-20T20:05:25', 'filetype': 'application/pdf', 'languages': ['eng'], 'page_number': 9, 'parent_id': '7b66ed6dbdff898c9a20d27930e6e831', 'filename': 'scr.pdf', 'category': 'ListItem', 'element_id': 'b054f460f762a52e85fb02c845d8310b'}, page_content='•The supply of goods and services should be of uniform standard and of reasonable quality.'), Document(metadata={'source': 'scr.pdf', 'detection_class_prob': 0.9007434248924255, 'coordinates': {'points': ((np.float64(173.13525390625), np.float64(339.52239990234375)), (np.float64(173.13525390625), np.float64(460.87296749333336)), (np.float64(2026.1253728646661), np.float64(460.87296749333336)), (np.float64(2026.1253728646661), np.float64(339.52239990234375))), 'system': 'PixelSpace', 'layout_width': 2200, 'layout_height': 1700}, 'last_modified': '2025-06-20T20:05:25', 'filetype': 'application/pdf', 'languages': ['eng'], 'page_number': 9, 'parent_id': '7b66ed6dbdff898c9a20d27930e6e831', 'filename': 'scr.pdf', 'category': 'ListItem', 'element_id': 'd42c57c1d7b5ed95f29bf34aa0b63c4d'}, page_content='•The distribution of goods and services should be widespread so that customers do not face any problems in procuring them.'), Document(metadata={'source': 'scr.pdf', 'detection_class_prob': 0.9068933129310608, 'coordinates': {'points': ((np.float64(171.12091064453125), np.float64(479.80364990234375)), (np.float64(171.12091064453125), np.float64(603.8951897155556)), (np.float64(2025.9194206286654), np.float64(603.8951897155556)), (np.float64(2025.9194206286654), np.float64(479.80364990234375))), 'system': 'PixelSpace', 'layout_width': 2200, 'layout_height': 1700}, 'last_modified': '2025-06-20T20:05:25', 'filetype': 'application/pdf', 'languages': ['eng'], 'page_number': 9, 'parent_id': '7b66ed6dbdff898c9a20d27930e6e831', 'filename': 'scr.pdf', 'category': 'ListItem', 'element_id': '461bdd1dec28332ac5e2dcd04339b1bb'}, page_content='• Management should not indulge in profiteering, hoarding or creating artificial scarcity.'), Document(metadata={'source': 'scr.pdf', 'detection_class_prob': 0.8730034232139587, 'coordinates': {'points': ((np.float64(174.00350952148438), np.float64(626.8348388671875)), (np.float64(174.00350952148438), np.float64(746.9176897155555)), (np.float64(2005.6820068359375), np.float64(746.9176897155555)), (np.float64(2005.6820068359375), np.float64(626.8348388671875))), 'system': 'PixelSpace', 'layout_width': 2200, 'layout_height': 1700}, 'last_modified': '2025-06-20T20:05:25', 'filetype': 'application/pdf', 'languages': ['eng'], 'page_number': 9, 'parent_id': '7b66ed6dbdff898c9a20d27930e6e831', 'filename': 'scr.pdf', 'category': 'ListItem', 'element_id': 'dd65daeb7ef4aff865756c22814ac212'}, page_content='•Management should not lure customers by false, misleading and exaggerated advertisements'), Document(metadata={'source': 'scr.pdf', 'detection_class_prob': 0.8554559946060181, 'coordinates': {'points': ((np.float64(198.5243377685547), np.float64(121.7054019377779)), (np.float64(198.5243377685547), np.float64(240.20963415999984)), (np.float64(1841.0386962890625), np.float64(240.20963415999984)), (np.float64(1841.0386962890625), np.float64(121.7054019377779))), 'system': 'PixelSpace', 'layout_width': 2200, 'layout_height': 1700}, 'last_modified': '2025-06-20T20:05:25', 'filetype': 'application/pdf', 'languages': ['eng'], 'page_number': 10, 'parent_id': '7b66ed6dbdff898c9a20d27930e6e831', 'filename': 'scr.pdf', 'category': 'ListItem', 'element_id': '0e5ccc8f494568f2f0acca3d9652a1b6'}, page_content='•Creditors, Suppliers and Others Creditors, suppliers and other groups affect the organisation in numerous ways.'), Document(metadata={'source': 'scr.pdf', 'detection_class_prob': 0.8734721541404724, 'coordinates': {'points': ((np.float64(195.55642700195312), np.float64(262.65643310546875)), (np.float64(195.55642700195312), np.float64(383.23213415999993)), (np.float64(1937.1832275390625), np.float64(383.23213415999993)), (np.float64(1937.1832275390625), np.float64(262.65643310546875))), 'system': 'PixelSpace', 'layout_width': 2200, 'layout_height': 1700}, 'last_modified': '2025-06-20T20:05:25', 'filetype': 'application/pdf', 'languages': ['eng'], 'page_number': 10, 'parent_id': '7b66ed6dbdff898c9a20d27930e6e831', 'filename': 'scr.pdf', 'category': 'ListItem', 'element_id': 'c8efd57bc87bf523947ca3fe6eb45e3e'}, page_content='• Therefore, the management is accountable to them and must fulfil its obli gations.'), Document(metadata={'source': 'scr.pdf', 'detection_class_prob': 0.8484405875205994, 'coordinates': {'points': ((np.float64(206.65650939941406), np.float64(406.21563720703125)), (np.float64(206.65650939941406), np.float64(465.30755615234375)), (np.float64(1168.7071533203125), np.float64(465.30755615234375)), (np.float64(1168.7071533203125), np.float64(406.21563720703125))), 'system': 'PixelSpace', 'layout_width': 2200, 'layout_height': 1700}, 'last_modified': '2025-06-20T20:05:25', 'filetype': 'application/pdf', 'languages': ['eng'], 'page_number': 10, 'parent_id': '7b66ed6dbdff898c9a20d27930e6e831', 'filename': 'scr.pdf', 'category': 'ListItem', 'element_id': 'ccd9655ff1c0aeb81f36e00e496b4343'}, page_content='•This can be done in the following ways:'), Document(metadata={'source': 'scr.pdf', 'detection_class_prob': 0.9136319756507874, 'coordinates': {'points': ((np.float64(202.05479431152344), np.float64(489.47734638222215)), (np.float64(202.05479431152344), np.float64(607.9815786044444)), (np.float64(1831.2447509765625), np.float64(607.9815786044444)), (np.float64(1831.2447509765625), np.float64(489.47734638222215))), 'system': 'PixelSpace', 'layout_width': 2200, 'layout_height': 1700}, 'last_modified': '2025-06-20T20:05:25', 'filetype': 'application/pdf', 'languages': ['eng'], 'page_number': 10, 'parent_id': '7b66ed6dbdff898c9a20d27930e6e831', 'filename': 'scr.pdf', 'category': 'ListItem', 'element_id': '1b91b7a56e6500f5431922c332921473'}, page_content='•1. Management should create healthy and cooperative inter-business relationship between different businesses.'), Document(metadata={'source': 'scr.pdf', 'detection_class_prob': 0.9062297940254211, 'coordinates': {'points': ((np.float64(190.6943817138672), np.float64(632.4998463822222)), (np.float64(190.6943817138672), np.float64(751.0040786044443)), (np.float64(1820.3853759765625), np.float64(751.0040786044443)), (np.float64(1820.3853759765625), np.float64(632.4998463822222))), 'system': 'PixelSpace', 'layout_width': 2200, 'layout_height': 1700}, 'last_modified': '2025-06-20T20:05:25', 'filetype': 'application/pdf', 'languages': ['eng'], 'page_number': 10, 'parent_id': '7b66ed6dbdff898c9a20d27930e6e831', 'filename': 'scr.pdf', 'category': 'ListItem', 'element_id': 'a646dc03da46c2764a17442da6c3812f'}, page_content='•2. Management should provide accurate and relevant information to creditors and suppliers.'), Document(metadata={'source': 'scr.pdf', 'detection_class_prob': 0.889152467250824, 'coordinates': {'points': ((np.float64(199.68946838378906), np.float64(771.5992431640625)), (np.float64(199.68946838378906), np.float64(894.0263008266666)), (np.float64(1877.8604736328125), np.float64(894.0263008266666)), (np.float64(1877.8604736328125), np.float64(771.5992431640625))), 'system': 'PixelSpace', 'layout_width': 2200, 'layout_height': 1700}, 'last_modified': '2025-06-20T20:05:25', 'filetype': 'application/pdf', 'languages': ['eng'], 'page_number': 10, 'parent_id': '7b66ed6dbdff898c9a20d27930e6e831', 'filename': 'scr.pdf', 'category': 'ListItem', 'element_id': 'da1b70d371dd7fa04c8bbf9e0b221f86'}, page_content='•3.Payments of price of materials, interest on borrowings, other charges should be prompt.'), Document(metadata={'source': 'scr.pdf', 'detection_class_prob': 0.9016202688217163, 'coordinates': {'points': ((np.float64(191.49697875976562), np.float64(117.03994750976562)), (np.float64(191.49697875976562), np.float64(238.16657860444428)), (np.float64(1942.302978515625), np.float64(238.16657860444428)), (np.float64(1942.302978515625), np.float64(117.03994750976562))), 'system': 'PixelSpace', 'layout_width': 2200, 'layout_height': 1700}, 'last_modified': '2025-06-20T20:05:25', 'filetype': 'application/pdf', 'languages': ['eng'], 'page_number': 11, 'parent_id': '7b66ed6dbdff898c9a20d27930e6e831', 'filename': 'scr.pdf', 'category': 'ListItem', 'element_id': 'b52a99a319f3d0805edaf4f5b7ecb696'}, page_content='•Government: The Government is very closely related with the business system of the country.'), Document(metadata={'source': 'scr.pdf', 'detection_class_prob': 0.8360294103622437, 'coordinates': {'points': ((np.float64(179.27249145507812), np.float64(257.11199951171875)), (np.float64(179.27249145507812), np.float64(320.70452880859375)), (np.float64(1647.328857421875), np.float64(320.70452880859375)), (np.float64(1647.328857421875), np.float64(257.11199951171875))), 'system': 'PixelSpace', 'layout_width': 2200, 'layout_height': 1700}, 'last_modified': '2025-06-20T20:05:25', 'filetype': 'application/pdf', 'languages': ['eng'], 'page_number': 11, 'parent_id': '7b66ed6dbdff898c9a20d27930e6e831', 'filename': 'scr.pdf', 'category': 'ListItem', 'element_id': 'bf7fd4fc168d4ec4bf8d9e9ad93294b6'}, page_content='• It provides various facilities for the development of business.'), Document(metadata={'source': 'scr.pdf', 'detection_class_prob': 0.9080544114112854, 'coordinates': {'points': ((np.float64(186.95785522460938), np.float64(343.6015319824219)), (np.float64(186.95785522460938), np.float64(462.91602304888875)), (np.float64(1939.8162841796875), np.float64(462.91602304888875)), (np.float64(1939.8162841796875), np.float64(343.6015319824219))), 'system': 'PixelSpace', 'layout_width': 2200, 'layout_height': 1700}, 'last_modified': '2025-06-20T20:05:25', 'filetype': 'application/pdf', 'languages': ['eng'], 'page_number': 11, 'parent_id': '7b66ed6dbdff898c9a20d27930e6e831', 'filename': 'scr.pdf', 'category': 'ListItem', 'element_id': 'e98494212ebcd794c23ccca61d968b8f'}, page_content='•No doubt, the government exercises controls over business, but these controls are meant for overall development of business.'), Document(metadata={'source': 'scr.pdf', 'detection_class_prob': 0.9052850008010864, 'coordinates': {'points': ((np.float64(177.70068359375), np.float64(485.93035888671875)), (np.float64(177.70068359375), np.float64(605.9385230488889)), (np.float64(1955.2528076171875), np.float64(605.9385230488889)), (np.float64(1955.2528076171875), np.float64(485.93035888671875))), 'system': 'PixelSpace', 'layout_width': 2200, 'layout_height': 1700}, 'last_modified': '2025-06-20T20:05:25', 'filetype': 'application/pdf', 'languages': ['eng'], 'page_number': 11, 'parent_id': '7b66ed6dbdff898c9a20d27930e6e831', 'filename': 'scr.pdf', 'category': 'ListItem', 'element_id': '8642c9be98393caef2f1aa3d8662c8fb'}, page_content='• The management can discharge its obligation to government in the following ways:'), Document(metadata={'source': 'scr.pdf', 'detection_class_prob': 0.8238009810447693, 'coordinates': {'points': ((np.float64(184.9168701171875), np.float64(630.0448608398438)), (np.float64(184.9168701171875), np.float64(687.6654674933333)), (np.float64(1217.1500244140625), np.float64(687.6654674933333)), (np.float64(1217.1500244140625), np.float64(630.0448608398438))), 'system': 'PixelSpace', 'layout_width': 2200, 'layout_height': 1700}, 'last_modified': '2025-06-20T20:05:25', 'filetype': 'application/pdf', 'languages': ['eng'], 'page_number': 11, 'parent_id': '7b66ed6dbdff898c9a20d27930e6e831', 'filename': 'scr.pdf', 'category': 'ListItem', 'element_id': 'cbe16478f2d1d7f2c0c552a49ba2f86a'}, page_content='•1.The Management should be law-abiding.'), Document(metadata={'source': 'scr.pdf', 'detection_class_prob': 0.9084963798522949, 'coordinates': {'points': ((np.float64(176.67218017578125), np.float64(712.1837352711111)), (np.float64(176.67218017578125), np.float64(830.6879674933333)), (np.float64(1953.4287109375), np.float64(830.6879674933333)), (np.float64(1953.4287109375), np.float64(712.1837352711111))), 'system': 'PixelSpace', 'layout_width': 2200, 'layout_height': 1700}, 'last_modified': '2025-06-20T20:05:25', 'filetype': 'application/pdf', 'languages': ['eng'], 'page_number': 11, 'parent_id': '7b66ed6dbdff898c9a20d27930e6e831', 'filename': 'scr.pdf', 'category': 'ListItem', 'element_id': '60ae3002bd69dca2d9c7ce4455865d2c'}, page_content='•2. The management should pay taxes and other dues fully, timely and honestly.'), Document(metadata={'source': 'scr.pdf', 'detection_class_prob': 0.9099176526069641, 'coordinates': {'points': ((np.float64(183.08279418945312), np.float64(855.0831909179688)), (np.float64(183.08279418945312), np.float64(973.7101897155555)), (np.float64(1946.2529296875), np.float64(973.7101897155555)), (np.float64(1946.2529296875), np.float64(855.0831909179688))), 'system': 'PixelSpace', 'layout_width': 2200, 'layout_height': 1700}, 'last_modified': '2025-06-20T20:05:25', 'filetype': 'application/pdf', 'languages': ['eng'], 'page_number': 11, 'parent_id': '7b66ed6dbdff898c9a20d27930e6e831', 'filename': 'scr.pdf', 'category': 'ListItem', 'element_id': '217e77dbddd60d671dcd75fbba55332f'}, page_content='•3.It should not corrupt public servants and democratic process. It should not buy political favour by any means.'), Document(metadata={'source': 'scr.pdf', 'detection_class_prob': 0.9175288677215576, 'coordinates': {'points': ((np.float64(190.96800231933594), np.float64(121.8439712524414)), (np.float64(190.96800231933594), np.float64(305.5913008266666)), (np.float64(1948.9332275390625), np.float64(305.5913008266666)), (np.float64(1948.9332275390625), np.float64(121.8439712524414))), 'system': 'PixelSpace', 'layout_width': 2200, 'layout_height': 1700}, 'last_modified': '2025-06-20T20:05:25', 'filetype': 'application/pdf', 'languages': ['eng'], 'page_number': 12, 'parent_id': '7b66ed6dbdff898c9a20d27930e6e831', 'filename': 'scr.pdf', 'category': 'ListItem', 'element_id': 'a995dd46d4c80c3dfcb11e6a26dcc79d'}, page_content='•Society: Organisations exist within a social structure and get amenities from the system. Therefore, they owe responsibility to the society as a whole.'), Document(metadata={'source': 'scr.pdf', 'detection_class_prob': 0.9006924629211426, 'coordinates': {'points': ((np.float64(196.5725860595703), np.float64(330.10956860444446)), (np.float64(196.5725860595703), np.float64(448.61380082666653)), (np.float64(1948.7022705078125), np.float64(448.61380082666653)), (np.float64(1948.7022705078125), np.float64(330.10956860444446))), 'system': 'PixelSpace', 'layout_width': 2200, 'layout_height': 1700}, 'last_modified': '2025-06-20T20:05:25', 'filetype': 'application/pdf', 'languages': ['eng'], 'page_number': 12, 'parent_id': '7b66ed6dbdff898c9a20d27930e6e831', 'filename': 'scr.pdf', 'category': 'ListItem', 'element_id': 'a4ef0b2505edca4a306d9ffda15f1586'}, page_content='• It is the obligation of management to protect the interest of society because management process is determining the life in the society.'), Document(metadata={'source': 'scr.pdf', 'detection_class_prob': 0.8303759098052979, 'coordinates': {'points': ((np.float64(198.8882598876953), np.float64(470.4427795410156)), (np.float64(198.8882598876953), np.float64(530.3407452711111)), (np.float64(1708.0924072265625), np.float64(530.3407452711111)), (np.float64(1708.0924072265625), np.float64(470.4427795410156))), 'system': 'PixelSpace', 'layout_width': 2200, 'layout_height': 1700}, 'last_modified': '2025-06-20T20:05:25', 'filetype': 'application/pdf', 'languages': ['eng'], 'page_number': 12, 'parent_id': '7b66ed6dbdff898c9a20d27930e6e831', 'filename': 'scr.pdf', 'category': 'ListItem', 'element_id': '67cd8ac394aa8aa5c651ac0f7dc089e7'}, page_content='•In this context, management should have in the following ways.'), Document(metadata={'source': 'scr.pdf', 'detection_class_prob': 0.9075111746788025, 'coordinates': {'points': ((np.float64(188.48692321777344), np.float64(554.8590130488888)), (np.float64(188.48692321777344), np.float64(673.363245271111)), (np.float64(1944.7052001953125), np.float64(673.363245271111)), (np.float64(1944.7052001953125), np.float64(554.8590130488888))), 'system': 'PixelSpace', 'layout_width': 2200, 'layout_height': 1700}, 'last_modified': '2025-06-20T20:05:25', 'filetype': 'application/pdf', 'languages': ['eng'], 'page_number': 12, 'parent_id': '7b66ed6dbdff898c9a20d27930e6e831', 'filename': 'scr.pdf', 'category': 'ListItem', 'element_id': '65013e84df742b22e6381346d0961dad'}, page_content='•1. Management should maintain reasonable business policies and practices.'), Document(metadata={'source': 'scr.pdf', 'detection_class_prob': 0.9064911603927612, 'coordinates': {'points': ((np.float64(195.59471130371094), np.float64(696.6343383789062)), (np.float64(195.59471130371094), np.float64(816.3857452711111)), (np.float64(1949.856201171875), np.float64(816.3857452711111)), (np.float64(1949.856201171875), np.float64(696.6343383789062))), 'system': 'PixelSpace', 'layout_width': 2200, 'layout_height': 1700}, 'last_modified': '2025-06-20T20:05:25', 'filetype': 'application/pdf', 'languages': ['eng'], 'page_number': 12, 'parent_id': '7b66ed6dbdff898c9a20d27930e6e831', 'filename': 'scr.pdf', 'category': 'ListItem', 'element_id': '7b0cb308d6229364c5578b50eef85bfa'}, page_content='•2.It should set up socially desirable standards of living and avoid ostentation and wasteful expenditure.'), Document(metadata={'source': 'scr.pdf', 'detection_class_prob': 0.8086661696434021, 'coordinates': {'points': ((np.float64(197.5130615234375), np.float64(840.2738037109375)), (np.float64(197.5130615234375), np.float64(898.1453857421875)), (np.float64(1251.1781005859375), np.float64(898.1453857421875)), (np.float64(1251.1781005859375), np.float64(840.2738037109375))), 'system': 'PixelSpace', 'layout_width': 2200, 'layout_height': 1700}, 'last_modified': '2025-06-20T20:05:25', 'filetype': 'application/pdf', 'languages': ['eng'], 'page_number': 12, 'parent_id': '7b66ed6dbdff898c9a20d27930e6e831', 'filename': 'scr.pdf', 'category': 'ListItem', 'element_id': 'a99b269056851cb9815a156115a1120b'}, page_content='•3. It should play proper role in civic affairs.'), Document(metadata={'source': 'scr.pdf', 'detection_class_prob': 0.9121534824371338, 'coordinates': {'points': ((np.float64(194.96441650390625), np.float64(922.6309574933332)), (np.float64(194.96441650390625), np.float64(1041.1351897155555)), (np.float64(1939.14599609375), np.float64(1041.1351897155555)), (np.float64(1939.14599609375), np.float64(922.6309574933332))), 'system': 'PixelSpace', 'layout_width': 2200, 'layout_height': 1700}, 'last_modified': '2025-06-20T20:05:25', 'filetype': 'application/pdf', 'languages': ['eng'], 'page_number': 12, 'parent_id': '7b66ed6dbdff898c9a20d27930e6e831', 'filename': 'scr.pdf', 'category': 'ListItem', 'element_id': 'a711e8ef0d0048a2515d0deb946921ff'}, page_content='•4.It should provide and promote general amenities and help in creating better living conditions in general.'), Document(metadata={'source': 'scr.pdf', 'detection_class_prob': 0.8818804025650024, 'coordinates': {'points': ((np.float64(180.9221954345703), np.float64(108.80008697509766)), (np.float64(180.9221954345703), np.float64(227.95074527111106)), (np.float64(2011.2003914208883), np.float64(227.95074527111106)), (np.float64(2011.2003914208883), np.float64(108.80008697509766))), 'system': 'PixelSpace', 'layout_width': 2200, 'layout_height': 1700}, 'last_modified': '2025-06-20T20:05:25', 'filetype': 'application/pdf', 'languages': ['eng'], 'page_number': 13, 'parent_id': '7b66ed6dbdff898c9a20d27930e6e831', 'filename': 'scr.pdf', 'category': 'ListItem', 'element_id': '614548c8856396ab14a8e3c8c95592a1'}, page_content='•Social audits, also called social compliance audits, are an assessment of an organisation’s social and ethical practices and performance.'), Document(metadata={'source': 'scr.pdf', 'detection_class_prob': 0.9043235778808594, 'coordinates': {'points': ((np.float64(175.6646728515625), np.float64(252.4687352711112)), (np.float64(175.6646728515625), np.float64(371.0563049316406)), (np.float64(2011.2347167935543), np.float64(371.0563049316406)), (np.float64(2011.2347167935543), np.float64(252.4687352711112))), 'system': 'PixelSpace', 'layout_width': 2200, 'layout_height': 1700}, 'last_modified': '2025-06-20T20:05:25', 'filetype': 'application/pdf', 'languages': ['eng'], 'page_number': 13, 'parent_id': '7b66ed6dbdff898c9a20d27930e6e831', 'filename': 'scr.pdf', 'category': 'ListItem', 'element_id': 'e31f97e11f5549eaea2fe3f157dcc9cc'}, page_content='•This includes areas such as employment practices, workers’ conditions and a company’s impact on the communities where they operate.'), Document(metadata={'source': 'scr.pdf', 'detection_class_prob': 0.6041688919067383, 'coordinates': {'points': ((np.float64(179.7142333984375), np.float64(476.0439147949219)), (np.float64(179.7142333984375), np.float64(596.11865234375)), (np.float64(2013.5748291015625), np.float64(596.11865234375)), (np.float64(2013.5748291015625), np.float64(476.0439147949219))), 'system': 'PixelSpace', 'layout_width': 2200, 'layout_height': 1700}, 'last_modified': '2025-06-20T20:05:25', 'filetype': 'application/pdf', 'languages': ['eng'], 'page_number': 13, 'parent_id': '7b66ed6dbdff898c9a20d27930e6e831', 'filename': 'scr.pdf', 'category': 'ListItem', 'element_id': '1a5565c693b7a47dd9bf892dd8d8f9b7'}, page_content='•This involves evaluating how well a business or individual facility adheres to ethical standards – such as those outlined in:'), Document(metadata={'source': 'scr.pdf', 'detection_class_prob': 0.7022268772125244, 'coordinates': {'points': ((np.float64(192.57810974121094), np.float64(701.96762416)), (np.float64(192.57810974121094), np.float64(759.1765786044444)), (np.float64(992.1539003937777), np.float64(759.1765786044444)), (np.float64(992.1539003937777), np.float64(701.96762416))), 'system': 'PixelSpace', 'layout_width': 2200, 'layout_height': 1700}, 'last_modified': '2025-06-20T20:05:25', 'filetype': 'application/pdf', 'languages': ['eng'], 'page_number': 13, 'parent_id': '7b66ed6dbdff898c9a20d27930e6e831', 'filename': 'scr.pdf', 'category': 'ListItem', 'element_id': '7be6de1fd7c879811dff8157fbb30f3e'}, page_content='•Relevant labour and ethical laws'), Document(metadata={'source': 'scr.pdf', 'detection_class_prob': 0.897105872631073, 'coordinates': {'points': ((np.float64(189.8686065673828), np.float64(779.0133666992188)), (np.float64(189.8686065673828), np.float64(902.1990786044444)), (np.float64(1897.973876953125), np.float64(902.1990786044444)), (np.float64(1897.973876953125), np.float64(779.0133666992188))), 'system': 'PixelSpace', 'layout_width': 2200, 'layout_height': 1700}, 'last_modified': '2025-06-20T20:05:25', 'filetype': 'application/pdf', 'languages': ['eng'], 'page_number': 13, 'parent_id': '7b66ed6dbdff898c9a20d27930e6e831', 'filename': 'scr.pdf', 'category': 'ListItem', 'element_id': '0534053465d2b4bfcd29327898b5c860'}, page_content='•Related international standards and best practice, such as those from the International Labour Organization'), Document(metadata={'source': 'scr.pdf', 'detection_class_prob': 0.7394422888755798, 'coordinates': {'points': ((np.float64(188.1372528076172), np.float64(926.7173463822222)), (np.float64(188.1372528076172), np.float64(983.9263008266666)), (np.float64(1245.0695152917783), np.float64(983.9263008266666)), (np.float64(1245.0695152917783), np.float64(926.7173463822222))), 'system': 'PixelSpace', 'layout_width': 2200, 'layout_height': 1700}, 'last_modified': '2025-06-20T20:05:25', 'filetype': 'application/pdf', 'languages': ['eng'], 'page_number': 13, 'parent_id': '7b66ed6dbdff898c9a20d27930e6e831', 'filename': 'scr.pdf', 'category': 'ListItem', 'element_id': 'eb8af76cce4e705a8591c7ac178dd163'}, page_content='•A business’s own stated sustainability goals'), Document(metadata={'source': 'scr.pdf', 'detection_class_prob': 0.9422292113304138, 'coordinates': {'points': ((np.float64(170.82421875), np.float64(127.53938293457031)), (np.float64(170.82421875), np.float64(430.22518971555553)), (np.float64(1953.124267578125), np.float64(430.22518971555553)), (np.float64(1953.124267578125), np.float64(127.53938293457031))), 'system': 'PixelSpace', 'layout_width': 2200, 'layout_height': 1700}, 'last_modified': '2025-06-20T20:05:25', 'filetype': 'application/pdf', 'languages': ['eng'], 'page_number': 14, 'parent_id': '7b66ed6dbdff898c9a20d27930e6e831', 'filename': 'scr.pdf', 'category': 'ListItem', 'element_id': 'a6037a7de34a69e88b72183e3b64a9f9'}, page_content='•Many of the best Indian Institutions in several fields such as Tata Institute of Fundamental Research, The Birla Institute of Technology, J. K. Institute of Sociology and Human Relations, Shri Modi Eye Hospital and Ophthalmic Research, Dr. B.P. Godrej Centre, AMM Murugappa Chetiar Research Centre, Shri Ram Collage of Commerce and many others.'), Document(metadata={'source': 'scr.pdf', 'detection_class_prob': 0.89943927526474, 'coordinates': {'points': ((np.float64(161.5637969970703), np.float64(452.59381103515625)), (np.float64(161.5637969970703), np.float64(573.2476897155555)), (np.float64(1952.7371826171875), np.float64(573.2476897155555)), (np.float64(1952.7371826171875), np.float64(452.59381103515625))), 'system': 'PixelSpace', 'layout_width': 2200, 'layout_height': 1700}, 'last_modified': '2025-06-20T20:05:25', 'filetype': 'application/pdf', 'languages': ['eng'], 'page_number': 14, 'parent_id': '7b66ed6dbdff898c9a20d27930e6e831', 'filename': 'scr.pdf', 'category': 'ListItem', 'element_id': '0ed93ce2e604d3638fbced9a014a60c7'}, page_content='•Business depends upon the society for its input resources such as manpower materials and natural resources like water, air and light.'), Document(metadata={'source': 'scr.pdf', 'detection_class_prob': 0.8626112937927246, 'coordinates': {'points': ((np.float64(175.3362274169922), np.float64(679.3892822265625)), (np.float64(175.3362274169922), np.float64(799.7332153320312)), (np.float64(1940.97314453125), np.float64(799.7332153320312)), (np.float64(1940.97314453125), np.float64(679.3892822265625))), 'system': 'PixelSpace', 'layout_width': 2200, 'layout_height': 1700}, 'last_modified': '2025-06-20T20:05:25', 'filetype': 'application/pdf', 'languages': ['eng'], 'page_number': 14, 'parent_id': '7b66ed6dbdff898c9a20d27930e6e831', 'filename': 'scr.pdf', 'category': 'ListItem', 'element_id': '73889899635d7a3efc6aabc49e13042e'}, page_content='• Business also needs society to buy goods and its production and provide money.'), Document(metadata={'source': 'scr.pdf', 'detection_class_prob': 0.8182300329208374, 'coordinates': {'points': ((np.float64(165.54595947265625), np.float64(898.1170654296875)), (np.float64(165.54595947265625), np.float64(1022.7465786044443)), (np.float64(1945.8016357421875), np.float64(1022.7465786044443)), (np.float64(1945.8016357421875), np.float64(898.1170654296875))), 'system': 'PixelSpace', 'layout_width': 2200, 'layout_height': 1700}, 'last_modified': '2025-06-20T20:05:25', 'filetype': 'application/pdf', 'languages': ['eng'], 'page_number': 14, 'parent_id': '7b66ed6dbdff898c9a20d27930e6e831', 'filename': 'scr.pdf', 'category': 'ListItem', 'element_id': '66eb1bd36f959ff271e82a62ebbce158'}, page_content='•In short, the business thrives on society for its very survival, sustenance and encouragement.'), Document(metadata={'source': 'scr.pdf', 'detection_class_prob': 0.9117498993873596, 'coordinates': {'points': ((np.float64(195.18515014648438), np.float64(121.90155029296875)), (np.float64(195.18515014648438), np.float64(307.6346341599999)), (np.float64(1896.366455078125), np.float64(307.6346341599999)), (np.float64(1896.366455078125), np.float64(121.90155029296875))), 'system': 'PixelSpace', 'layout_width': 2200, 'layout_height': 1700}, 'last_modified': '2025-06-20T20:05:25', 'filetype': 'application/pdf', 'languages': ['eng'], 'page_number': 15, 'parent_id': '7b66ed6dbdff898c9a20d27930e6e831', 'filename': 'scr.pdf', 'category': 'ListItem', 'element_id': '2fe5dc23a9aff0570b17e05bb78386a4'}, page_content='•Social audits involve trained auditors reviewing a business or worksite’s policies, processes, practices and conditions. Ideally, these auditors are from an independent assessment company.'), Document(metadata={'source': 'scr.pdf', 'detection_class_prob': 0.9268280267715454, 'coordinates': {'points': ((np.float64(186.78538513183594), np.float64(413.8798463822221)), (np.float64(186.78538513183594), np.float64(654.97463416)), (np.float64(1904.3828125), np.float64(654.97463416)), (np.float64(1904.3828125), np.float64(413.8798463822221))), 'system': 'PixelSpace', 'layout_width': 2200, 'layout_height': 1700}, 'last_modified': '2025-06-20T20:05:25', 'filetype': 'application/pdf', 'languages': ['eng'], 'page_number': 15, 'parent_id': '7b66ed6dbdff898c9a20d27930e6e831', 'filename': 'scr.pdf', 'category': 'ListItem', 'element_id': '2de31c6b4bb301b0b060904890c979b8'}, page_content='•The process typically includes an auditor gathering information from various sources, including their own observations, employees’ feedback and business documents to examine a business’s compliance with relevant laws and regulations.'), Document(metadata={'source': 'scr.pdf', 'detection_class_prob': 0.8343746662139893, 'coordinates': {'points': ((np.float64(215.44345092773438), np.float64(71.86215217777772)), (np.float64(215.44345092773438), np.float64(112.72569106666657)), (np.float64(466.6951599121094), np.float64(112.72569106666657)), (np.float64(466.6951599121094), np.float64(71.86215217777772))), 'system': 'PixelSpace', 'layout_width': 2200, 'layout_height': 1700}, 'last_modified': '2025-06-20T20:05:25', 'filetype': 'application/pdf', 'languages': ['eng'], 'page_number': 16, 'filename': 'scr.pdf', 'category': 'Header', 'element_id': '0d403513a18567ca80de30e711861a99'}, page_content='Type of Audit'), Document(metadata={'source': 'scr.pdf', 'detection_class_prob': 0.5721471905708313, 'coordinates': {'points': ((np.float64(788.4820556640625), np.float64(71.86215217777772)), (np.float64(788.4820556640625), np.float64(112.72569106666657)), (np.float64(906.177734375), np.float64(112.72569106666657)), (np.float64(906.177734375), np.float64(71.86215217777772))), 'system': 'PixelSpace', 'layout_width': 2200, 'layout_height': 1700}, 'last_modified': '2025-06-20T20:05:25', 'filetype': 'application/pdf', 'languages': ['eng'], 'page_number': 16, 'filename': 'scr.pdf', 'category': 'Header', 'element_id': 'b4fb986d1ac91000126a3b2a14c06ed4'}, page_content='Merits'), Document(metadata={'source': 'scr.pdf', 'detection_class_prob': 0.6177170276641846, 'coordinates': {'points': ((np.float64(1358.4700927734375), np.float64(71.86215217777772)), (np.float64(1358.4700927734375), np.float64(112.72569106666657)), (np.float64(1521.10791015625), np.float64(112.72569106666657)), (np.float64(1521.10791015625), np.float64(71.86215217777772))), 'system': 'PixelSpace', 'layout_width': 2200, 'layout_height': 1700}, 'last_modified': '2025-06-20T20:05:25', 'filetype': 'application/pdf', 'languages': ['eng'], 'page_number': 16, 'filename': 'scr.pdf', 'category': 'Header', 'element_id': '7912ee1f9f525022f408bf4a8c11a781'}, page_content='Demerits'), Document(metadata={'source': 'scr.pdf', 'coordinates': {'points': ((np.float64(788.0325), np.float64(169.2543743999999)), (np.float64(788.0325), np.float64(210.11791328888876)), (np.float64(811.8559431722223), np.float64(210.11791328888876)), (np.float64(811.8559431722223), np.float64(169.2543743999999))), 'system': 'PixelSpace', 'layout_width': 2200, 'layout_height': 1700}, 'last_modified': '2025-06-20T20:05:25', 'filetype': 'application/pdf', 'languages': ['eng'], 'page_number': 16, 'parent_id': '7912ee1f9f525022f408bf4a8c11a781', 'filename': 'scr.pdf', 'category': 'ListItem', 'element_id': '73d9b732a7a637d2b7ca40b73fa4f692'}, page_content=''), Document(metadata={'source': 'scr.pdf', 'coordinates': {'points': ((np.float64(899.2712255633334), np.float64(169.2543743999999)), (np.float64(899.2712255633334), np.float64(210.11791328888876)), (np.float64(1052.5094963966667), np.float64(210.11791328888876)), (np.float64(1052.5094963966667), np.float64(169.2543743999999))), 'system': 'PixelSpace', 'layout_width': 2200, 'layout_height': 1700}, 'last_modified': '2025-06-20T20:05:25', 'filetype': 'application/pdf', 'languages': ['eng'], 'page_number': 16, 'parent_id': '7912ee1f9f525022f408bf4a8c11a781', 'filename': 'scr.pdf', 'category': 'Title', 'element_id': '6d7a4e435c9012eb26d6a450eea8d07b'}, page_content='Provides'), Document(metadata={'source': 'scr.pdf', 'coordinates': {'points': ((np.float64(1139.9247787877778), np.float64(169.2543743999999)), (np.float64(1139.9247787877778), np.float64(210.11791328888876)), (np.float64(1319.2503328477778), np.float64(210.11791328888876)), (np.float64(1319.2503328477778), np.float64(169.2543743999999))), 'system': 'PixelSpace', 'layout_width': 2200, 'layout_height': 1700}, 'last_modified': '2025-06-20T20:05:25', 'filetype': 'application/pdf', 'languages': ['eng'], 'page_number': 16, 'parent_id': '7912ee1f9f525022f408bf4a8c11a781', 'filename': 'scr.pdf', 'category': 'Title', 'element_id': '26a02439ce00a5cd26a76e311919dcf7'}, page_content='continuous'), Document(metadata={'source': 'scr.pdf', 'coordinates': {'points': ((np.float64(218.68838888888885), np.float64(445.083263288889)), (np.float64(218.68838888888885), np.float64(485.94680217777784)), (np.float64(449.0443303133333), np.float64(485.94680217777784)), (np.float64(449.0443303133333), np.float64(445.083263288889))), 'system': 'PixelSpace', 'layout_width': 2200, 'layout_height': 1700}, 'last_modified': '2025-06-20T20:05:25', 'filetype': 'application/pdf', 'languages': ['eng'], 'page_number': 16, 'parent_id': '7912ee1f9f525022f408bf4a8c11a781', 'filename': 'scr.pdf', 'category': 'Title', 'element_id': '75347aaf77d816d295589f213ff0da3f'}, page_content='Internal Audit'), Document(metadata={'source': 'scr.pdf', 'detection_class_prob': 0.5327001810073853, 'coordinates': {'points': ((np.float64(788.0325), np.float64(223.8809356689453)), (np.float64(788.0325), np.float64(761.7756910666666)), (np.float64(1890.99951171875), np.float64(761.7756910666666)), (np.float64(1890.99951171875), np.float64(223.8809356689453))), 'system': 'PixelSpace', 'layout_width': 2200, 'layout_height': 1700}, 'last_modified': '2025-06-20T20:05:25', 'filetype': 'application/pdf', 'languages': ['eng'], 'page_number': 16, 'parent_id': '75347aaf77d816d295589f213ff0da3f', 'filename': 'scr.pdf', 'category': 'NarrativeText', 'element_id': '715c7cdbef41f205cf14e5aad659ba93'}, page_content='monitoring of financial and operational processes. - Helps identify risks and inefficiencies before external scrutiny. - More cost-effective compared to external audits. - Ensures compliance with internal policies and regulations. - Improves overall management control and decision-making. - May lack objectivity since auditors are part of the organization. - Findings might be influenced by internal pressures or conflicts of interest. - Limited credibility compared to external audits. - May not always detect major frauds or external risks.'), Document(metadata={'source': 'scr.pdf', 'detection_class_prob': 0.7687707543373108, 'coordinates': {'points': ((np.float64(206.60597229003906), np.float64(810.5465087890625)), (np.float64(206.60597229003906), np.float64(1170.941650390625)), (np.float64(1877.9737548828125), np.float64(1170.941650390625)), (np.float64(1877.9737548828125), np.float64(810.5465087890625))), 'system': 'PixelSpace', 'layout_width': 2200, 'layout_height': 1700}, 'last_modified': '2025-06-20T20:05:25', 'filetype': 'application/pdf', 'languages': ['eng'], 'page_number': 16, 'parent_id': '75347aaf77d816d295589f213ff0da3f', 'filename': 'scr.pdf', 'category': 'Table', 'element_id': '8fc3304ecf445de6a703493a18b4ad5b'}, page_content='External Audit - Provides independent and unbiased assessment. - Enhances stakeholder confidence, especially for investors and regulatory bodies. - Helps detect major frauds and internal audits.'), Document(metadata={'source': 'scr.pdf', 'coordinates': {'points': ((np.float64(1357.3766666666666), np.float64(869.3835410666667)), (np.float64(1357.3766666666666), np.float64(910.2470799555555)), (np.float64(1888.5944995144448), np.float64(910.2470799555555)), (np.float64(1888.5944995144448), np.float64(869.3835410666667))), 'system': 'PixelSpace', 'layout_width': 2200, 'layout_height': 1700}, 'last_modified': '2025-06-20T20:05:25', 'filetype': 'application/pdf', 'languages': ['eng'], 'page_number': 16, 'parent_id': '75347aaf77d816d295589f213ff0da3f', 'filename': 'scr.pdf', 'category': 'ListItem', 'element_id': '4bfeb36b7b3b5827f2c0e766cb2b34c7'}, page_content='More expensive compared to'), Document(metadata={'source': 'scr.pdf', 'coordinates': {'points': ((np.float64(1693.7408006766664), np.float64(924.5493744)), (np.float64(1693.7408006766664), np.float64(965.412913288889)), (np.float64(1888.5863268066669), np.float64(965.412913288889)), (np.float64(1888.5863268066669), np.float64(924.5493744))), 'system': 'PixelSpace', 'layout_width': 2200, 'layout_height': 1700}, 'last_modified': '2025-06-20T20:05:25', 'filetype': 'application/pdf', 'languages': ['eng'], 'page_number': 16, 'parent_id': '75347aaf77d816d295589f213ff0da3f', 'filename': 'scr.pdf', 'category': 'ListItem', 'element_id': '5d02925f04690238c3a3c073a4fcc0e4'}, page_content='Limited'), Document(metadata={'source': 'scr.pdf', 'coordinates': {'points': ((np.float64(1357.3766666666666), np.float64(979.7152077333333)), (np.float64(1357.3766666666666), np.float64(1020.5787466222222)), (np.float64(1888.5904131605557), np.float64(1020.5787466222222)), (np.float64(1888.5904131605557), np.float64(979.7152077333333))), 'system': 'PixelSpace', 'layout_width': 2200, 'layout_height': 1700}, 'last_modified': '2025-06-20T20:05:25', 'filetype': 'application/pdf', 'languages': ['eng'], 'page_number': 16, 'parent_id': '75347aaf77d816d295589f213ff0da3f', 'filename': 'scr.pdf', 'category': 'NarrativeText', 'element_id': 'c1aeef1ab112ea0442fc68289c37572f'}, page_content='frequency, usually conducted'), Document(metadata={'source': 'scr.pdf', 'coordinates': {'points': ((np.float64(1357.3766666666666), np.float64(1034.8810410666665)), (np.float64(1357.3766666666666), np.float64(1075.7445799555555)), (np.float64(1888.578154098889), np.float64(1075.7445799555555)), (np.float64(1888.578154098889), np.float64(1034.8810410666665))), 'system': 'PixelSpace', 'layout_width': 2200, 'layout_height': 1700}, 'last_modified': '2025-06-20T20:05:25', 'filetype': 'application/pdf', 'languages': ['eng'], 'page_number': 16, 'parent_id': '7912ee1f9f525022f408bf4a8c11a781', 'filename': 'scr.pdf', 'category': 'Title', 'element_id': '79d3546c0b5dadf73a36e1fcf2242ff4'}, page_content='annually. - External auditors'), Document(metadata={'source': 'scr.pdf', 'coordinates': {'points': ((np.float64(1357.3766666666666), np.float64(1090.046596622222)), (np.float64(1357.3766666666666), np.float64(1130.910135511111)), (np.float64(1888.6026722222223), np.float64(1130.910135511111)), (np.float64(1888.6026722222223), np.float64(1090.046596622222))), 'system': 'PixelSpace', 'layout_width': 2200, 'layout_height': 1700}, 'last_modified': '2025-06-20T20:05:25', 'filetype': 'application/pdf', 'languages': ['eng'], 'page_number': 16, 'parent_id': '79d3546c0b5dadf73a36e1fcf2242ff4', 'filename': 'scr.pdf', 'category': 'NarrativeText', 'element_id': 'd51cf9ddfcdc0e7a585103853ff8803d'}, page_content='might not fully understand the'), Document(metadata={'source': 'scr.pdf', 'coordinates': {'points': ((np.float64(788.0325), np.float64(1145.2124299555555)), (np.float64(788.0325), np.float64(1186.0759688444443)), (np.float64(1319.2421601400001), np.float64(1186.0759688444443)), (np.float64(1319.2421601400001), np.float64(1145.2124299555555))), 'system': 'PixelSpace', 'layout_width': 2200, 'layout_height': 1700}, 'last_modified': '2025-06-20T20:05:25', 'filetype': 'application/pdf', 'languages': ['eng'], 'page_number': 16, 'parent_id': '7912ee1f9f525022f408bf4a8c11a781', 'filename': 'scr.pdf', 'category': 'Title', 'element_id': '3a24810ceb48ea1a658f479b2580d5c7'}, page_content='errors that internal audits might'), Document(metadata={'source': 'scr.pdf', 'coordinates': {'points': ((np.float64(1357.3766666666666), np.float64(1145.2124299555555)), (np.float64(1357.3766666666666), np.float64(1186.0759688444443)), (np.float64(1888.5863268066666), np.float64(1186.0759688444443)), (np.float64(1888.5863268066666), np.float64(1145.2124299555555))), 'system': 'PixelSpace', 'layout_width': 2200, 'layout_height': 1700}, 'last_modified': '2025-06-20T20:05:25', 'filetype': 'application/pdf', 'languages': ['eng'], 'page_number': 16, 'parent_id': '3a24810ceb48ea1a658f479b2580d5c7', 'filename': 'scr.pdf', 'category': 'NarrativeText', 'element_id': 'ffcdd81ee686381108ede671936185d6'}, page_content='company’s internal processes. -'), Document(metadata={'source': 'scr.pdf', 'detection_class_prob': 0.8004363775253296, 'coordinates': {'points': ((np.float64(219.83502197265625), np.float64(120.91753387451172)), (np.float64(219.83502197265625), np.float64(186.2109832763672)), (np.float64(869.5038452148438), np.float64(186.2109832763672)), (np.float64(869.5038452148438), np.float64(120.91753387451172))), 'system': 'PixelSpace', 'layout_width': 2200, 'layout_height': 1700}, 'last_modified': '2025-06-20T20:05:25', 'filetype': 'application/pdf', 'languages': ['eng'], 'page_number': 17, 'parent_id': '7912ee1f9f525022f408bf4a8c11a781', 'filename': 'scr.pdf', 'category': 'Title', 'element_id': 'ca55efcebe1613ddbee501e3b0583ce2'}, page_content='•What Is Business Ethics?'), Document(metadata={'source': 'scr.pdf', 'detection_class_prob': 0.8990050554275513, 'coordinates': {'points': ((np.float64(205.6221466064453), np.float64(204.77247619628906)), (np.float64(205.6221466064453), np.float64(328.5)), (np.float64(1966.851318359375), np.float64(328.5)), (np.float64(1966.851318359375), np.float64(204.77247619628906))), 'system': 'PixelSpace', 'layout_width': 2200, 'layout_height': 1700}, 'last_modified': '2025-06-20T20:05:25', 'filetype': 'application/pdf', 'languages': ['eng'], 'page_number': 17, 'parent_id': 'ca55efcebe1613ddbee501e3b0583ce2', 'filename': 'scr.pdf', 'category': 'ListItem', 'element_id': '4975013632ae1a7dc9c5aced6a68a659'}, page_content='•Business ethics is the moral principles, policies, and values that govern the way companies and individuals engage in business activity.'), Document(metadata={'source': 'scr.pdf', 'detection_class_prob': 0.9116445779800415, 'coordinates': {'points': ((np.float64(198.757568359375), np.float64(434.3115130488889)), (np.float64(198.757568359375), np.float64(614.1110230488888)), (np.float64(1977.387451171875), np.float64(614.1110230488888)), (np.float64(1977.387451171875), np.float64(434.3115130488889))), 'system': 'PixelSpace', 'layout_width': 2200, 'layout_height': 1700}, 'last_modified': '2025-06-20T20:05:25', 'filetype': 'application/pdf', 'languages': ['eng'], 'page_number': 17, 'parent_id': 'ca55efcebe1613ddbee501e3b0583ce2', 'filename': 'scr.pdf', 'category': 'ListItem', 'element_id': '6c02d738106d3e728c8fde83f7aeb5e2'}, page_content='•It goes beyond legal requirements to establish a code of conduct that drives employee behavior at all levels and helps build trust between a business and its customers.'), Document(metadata={'source': 'scr.pdf', 'coordinates': {'points': ((np.float64(262.29744444444447), np.float64(50.096111111110986)), (np.float64(262.29744444444447), np.float64(1151.368611111111)), (np.float64(1913.1843888888889), np.float64(1151.368611111111)), (np.float64(1913.1843888888889), np.float64(50.096111111110986))), 'system': 'PixelSpace', 'layout_width': 2200, 'layout_height': 1700}, 'last_modified': '2025-06-20T20:05:25', 'filetype': 'application/pdf', 'languages': ['eng'], 'page_number': 18, 'filename': 'scr.pdf', 'category': 'Image', 'element_id': '8101415c269891b523c714e6743f8130'}, page_content='  '), Document(metadata={'source': 'scr.pdf', 'detection_class_prob': 0.8926467299461365, 'coordinates': {'points': ((np.float64(190.101318359375), np.float64(135.18682861328125)), (np.float64(190.101318359375), np.float64(256.55518971555546)), (np.float64(1915.700927734375), np.float64(256.55518971555546)), (np.float64(1915.700927734375), np.float64(135.18682861328125))), 'system': 'PixelSpace', 'layout_width': 2200, 'layout_height': 1700}, 'last_modified': '2025-06-20T20:05:25', 'filetype': 'application/pdf', 'languages': ['eng'], 'page_number': 19, 'filename': 'scr.pdf', 'category': 'ListItem', 'element_id': 'd9df306c0b4af3868ef777e3d87595dd'}, page_content='•Over the years, stakeholders have become generally more aware and this has forced organizations to follow ethical business practices.'), Document(metadata={'source': 'scr.pdf', 'detection_class_prob': 0.9354550242424011, 'coordinates': {'points': ((np.float64(195.16136169433594), np.float64(279.5139465332031)), (np.float64(195.16136169433594), np.float64(522.168245271111)), (np.float64(1920.4081503426667), np.float64(522.168245271111)), (np.float64(1920.4081503426667), np.float64(279.5139465332031))), 'system': 'PixelSpace', 'layout_width': 2200, 'layout_height': 1700}, 'last_modified': '2025-06-20T20:05:25', 'filetype': 'application/pdf', 'languages': ['eng'], 'page_number': 19, 'filename': 'scr.pdf', 'category': 'ListItem', 'element_id': 'df0f5bc6a6b31f334bc9804be5adc8fb'}, page_content='• Organizations have realized that today, stakeholders are concerned about financial irregularities, tax evasion, poor quality products and services, kickbacks, non-compliance with environmental issues, and hazardous working conditions.'), Document(metadata={'source': 'scr.pdf', 'detection_class_prob': 0.9006122350692749, 'coordinates': {'points': ((np.float64(196.7296905517578), np.float64(543.2130737304688)), (np.float64(196.7296905517578), np.float64(665.1904674933332)), (np.float64(1834.194580078125), np.float64(665.1904674933332)), (np.float64(1834.194580078125), np.float64(543.2130737304688))), 'system': 'PixelSpace', 'layout_width': 2200, 'layout_height': 1700}, 'last_modified': '2025-06-20T20:05:25', 'filetype': 'application/pdf', 'languages': ['eng'], 'page_number': 19, 'filename': 'scr.pdf', 'category': 'ListItem', 'element_id': '4859bd99602eeee29db2ad4d03ac7221'}, page_content='• They have come to understand that integrity, transparency, and open communication are the norms of modern-day business'), Document(metadata={'source': 'scr.pdf', 'detection_class_prob': 0.8959336876869202, 'coordinates': {'points': ((np.float64(193.07159423828125), np.float64(768.56787109375)), (np.float64(193.07159423828125), np.float64(889.9399119377778)), (np.float64(1892.368896484375), np.float64(889.9399119377778)), (np.float64(1892.368896484375), np.float64(768.56787109375))), 'system': 'PixelSpace', 'layout_width': 2200, 'layout_height': 1700}, 'last_modified': '2025-06-20T20:05:25', 'filetype': 'application/pdf', 'languages': ['eng'], 'page_number': 19, 'filename': 'scr.pdf', 'category': 'ListItem', 'element_id': '1ca152505fafaef75c84dfc37c4fb22a'}, page_content='•The word ‘ethics’ is derived from the Latin word ‘ethics’ and the Greek word ‘ethikos’. Meaning character or manners.'), Document(metadata={'source': 'scr.pdf', 'detection_class_prob': 0.4224088191986084, 'coordinates': {'points': ((np.float64(211.21802777777776), np.float64(994.8557739257812)), (np.float64(211.21802777777776), np.float64(1135.1213008266666)), (np.float64(1896.8952700659997), np.float64(1135.1213008266666)), (np.float64(1896.8952700659997), np.float64(994.8557739257812))), 'system': 'PixelSpace', 'layout_width': 2200, 'layout_height': 1700}, 'last_modified': '2025-06-20T20:05:25', 'filetype': 'application/pdf', 'languages': ['eng'], 'page_number': 19, 'filename': 'scr.pdf', 'category': 'Title', 'element_id': '7175cf7e0b2d2b860ce1c7edfa3e8284'}, page_content='•Ethics deals with human conduct that is voluntary and not forced by any •person/s or circumstances'), Document(metadata={'source': 'scr.pdf', 'detection_class_prob': 0.9128756523132324, 'coordinates': {'points': ((np.float64(190.25770568847656), np.float64(95.45801544189453)), (np.float64(190.25770568847656), np.float64(276.98685638222224)), (np.float64(1950.4205322265625), np.float64(276.98685638222224)), (np.float64(1950.4205322265625), np.float64(95.45801544189453))), 'system': 'PixelSpace', 'layout_width': 2200, 'layout_height': 1700}, 'last_modified': '2025-06-20T20:05:25', 'filetype': 'application/pdf', 'languages': ['eng'], 'page_number': 20, 'parent_id': '7175cf7e0b2d2b860ce1c7edfa3e8284', 'filename': 'scr.pdf', 'category': 'ListItem', 'element_id': '79c1652c88a286b8359363ff3bc58f5d'}, page_content='•Business is a primary economic institution through which people carry on the task of producing and distributing goods and services. Business ethics refers to the application of ethical judgments to business activities.'), Document(metadata={'source': 'scr.pdf', 'detection_class_prob': 0.952582061290741, 'coordinates': {'points': ((np.float64(192.63369750976562), np.float64(301.5051241599999)), (np.float64(192.63369750976562), np.float64(603.8951897155556)), (np.float64(1958.2354736328125), np.float64(603.8951897155556)), (np.float64(1958.2354736328125), np.float64(301.5051241599999))), 'system': 'PixelSpace', 'layout_width': 2200, 'layout_height': 1700}, 'last_modified': '2025-06-20T20:05:25', 'filetype': 'application/pdf', 'languages': ['eng'], 'page_number': 20, 'parent_id': '7175cf7e0b2d2b860ce1c7edfa3e8284', 'filename': 'scr.pdf', 'category': 'ListItem', 'element_id': '254deb82dd98505082f17ad0ef73936c'}, page_content='• Broadly, it is concerned with what is right or wrong at the workplace. Some philosophers have defined business ethics as ‘the normative study of moral standards as they apply to business policies, institutions, and human behavior, while others regard it as an ‘ethical analysis of business practices.'), Document(metadata={'source': 'scr.pdf', 'detection_class_prob': 0.9305540919303894, 'coordinates': {'points': ((np.float64(196.72976684570312), np.float64(708.5433349609375)), (np.float64(196.72976684570312), np.float64(951.2354674933332)), (np.float64(1945.244384765625), np.float64(951.2354674933332)), (np.float64(1945.244384765625), np.float64(708.5433349609375))), 'system': 'PixelSpace', 'layout_width': 2200, 'layout_height': 1700}, 'last_modified': '2025-06-20T20:05:25', 'filetype': 'application/pdf', 'languages': ['eng'], 'page_number': 20, 'parent_id': '7175cf7e0b2d2b860ce1c7edfa3e8284', 'filename': 'scr.pdf', 'category': 'ListItem', 'element_id': '28601da635b00f71721a5666d1d6a852'}, page_content='•As businesses are run by people, they too should be able to distinguish between right and wrong decisions. Thus, businesses have choices or alternatives like whether to maximize profits, increase sales volume, provide employee benefits, or have concern for society.'), Document(metadata={'source': 'scr.pdf', 'detection_class_prob': 0.8873016834259033, 'coordinates': {'points': ((np.float64(224.37106323242188), np.float64(84.92389678955078)), (np.float64(224.37106323242188), np.float64(207.5188008266666)), (np.float64(1850.043212890625), np.float64(207.5188008266666)), (np.float64(1850.043212890625), np.float64(84.92389678955078))), 'system': 'PixelSpace', 'layout_width': 2200, 'layout_height': 1700}, 'last_modified': '2025-06-20T20:05:25', 'filetype': 'application/pdf', 'languages': ['eng'], 'page_number': 21, 'parent_id': '7175cf7e0b2d2b860ce1c7edfa3e8284', 'filename': 'scr.pdf', 'category': 'ListItem', 'element_id': 'f8fe87cf02216ad7db54f047e8f7d40e'}, page_content='•Infosys, Wipro, and Tata Steel have made it to the list of the World’s Most Ethical Companies for the year 2021.'), Document(metadata={'source': 'scr.pdf', 'detection_class_prob': 0.9185147881507874, 'coordinates': {'points': ((np.float64(210.35183715820312), np.float64(228.69725036621094)), (np.float64(210.35183715820312), np.float64(411.83657860444436)), (np.float64(1941.135009765625), np.float64(411.83657860444436)), (np.float64(1941.135009765625), np.float64(228.69725036621094))), 'system': 'PixelSpace', 'layout_width': 2200, 'layout_height': 1700}, 'last_modified': '2025-06-20T20:05:25', 'filetype': 'application/pdf', 'languages': ['eng'], 'page_number': 21, 'parent_id': '7175cf7e0b2d2b860ce1c7edfa3e8284', 'filename': 'scr.pdf', 'category': 'ListItem', 'element_id': '15a6cfeab1061b7c4b4e572c29bead96'}, page_content='•The list, compiled by Ethisphere Institute, a global leader in defining and measuring corporate ethical standards, recognizes companies that have a positive impact on society.'), Document(metadata={'source': 'scr.pdf', 'detection_class_prob': 0.9067752361297607, 'coordinates': {'points': ((np.float64(210.56488037109375), np.float64(144.18040193777793)), (np.float64(210.56488037109375), np.float64(323.9799119377777)), (np.float64(1936.5181919142217), np.float64(323.9799119377777)), (np.float64(1936.5181919142217), np.float64(144.18040193777793))), 'system': 'PixelSpace', 'layout_width': 2200, 'layout_height': 1700}, 'last_modified': '2025-06-20T20:05:25', 'filetype': 'application/pdf', 'languages': ['eng'], 'page_number': 22, 'parent_id': '7175cf7e0b2d2b860ce1c7edfa3e8284', 'filename': 'scr.pdf', 'category': 'ListItem', 'element_id': '4e9009631be808df1a7a083bc01518ac'}, page_content='•The concept of business ethics began in the 1960s as corporations became more aware of a rising consumer-based society that showed concerns regarding the environment, social causes, and corporate responsibility.'), Document(metadata={'source': 'scr.pdf', 'detection_class_prob': 0.6073638796806335, 'coordinates': {'points': ((np.float64(207.36709594726562), np.float64(348.4981797155555)), (np.float64(207.36709594726562), np.float64(405.70713415999995)), (np.float64(946.5285034179688), np.float64(405.70713415999995)), (np.float64(946.5285034179688), np.float64(348.4981797155555))), 'system': 'PixelSpace', 'layout_width': 2200, 'layout_height': 1700}, 'last_modified': '2025-06-20T20:05:25', 'filetype': 'application/pdf', 'languages': ['eng'], 'page_number': 22, 'filename': 'scr.pdf', 'category': 'Title', 'element_id': '8a6b8bbb8270159701ca66d3eb939a57'}, page_content='•Principles of Business Ethics'), Document(metadata={'source': 'scr.pdf', 'detection_class_prob': 0.826638400554657, 'coordinates': {'points': ((np.float64(207.64085388183594), np.float64(428.1544494628906)), (np.float64(207.64085388183594), np.float64(488.92913818359375)), (np.float64(1948.5311279296875), np.float64(488.92913818359375)), (np.float64(1948.5311279296875), np.float64(428.1544494628906))), 'system': 'PixelSpace', 'layout_width': 2200, 'layout_height': 1700}, 'last_modified': '2025-06-20T20:05:25', 'filetype': 'application/pdf', 'languages': ['eng'], 'page_number': 22, 'parent_id': '8a6b8bbb8270159701ca66d3eb939a57', 'filename': 'scr.pdf', 'category': 'ListItem', 'element_id': '55e240ce0f55a2c44812def829e89255'}, page_content='•Accountability: Holding yourself and others responsible for their actions.'), Document(metadata={'source': 'scr.pdf', 'detection_class_prob': 0.8893138766288757, 'coordinates': {'points': ((np.float64(183.89772033691406), np.float64(511.9523463822222)), (np.float64(183.89772033691406), np.float64(630.4565786044444)), (np.float64(2023.4687783386667), np.float64(630.4565786044444)), (np.float64(2023.4687783386667), np.float64(511.9523463822222))), 'system': 'PixelSpace', 'layout_width': 2200, 'layout_height': 1700}, 'last_modified': '2025-06-20T20:05:25', 'filetype': 'application/pdf', 'languages': ['eng'], 'page_number': 22, 'parent_id': '8a6b8bbb8270159701ca66d3eb939a57', 'filename': 'scr.pdf', 'category': 'ListItem', 'element_id': 'f5312617b808d3c255dde71b1555eb59'}, page_content='•Integrity: consistently does the right thing and strives to hold themselves to a higher standard'), Document(metadata={'source': 'scr.pdf', 'detection_class_prob': 0.8974939584732056, 'coordinates': {'points': ((np.float64(197.19223022460938), np.float64(654.9745686044444)), (np.float64(197.19223022460938), np.float64(773.4788008266667)), (np.float64(2023.4885515289998), np.float64(773.4788008266667)), (np.float64(2023.4885515289998), np.float64(654.9745686044444))), 'system': 'PixelSpace', 'layout_width': 2200, 'layout_height': 1700}, 'last_modified': '2025-06-20T20:05:25', 'filetype': 'application/pdf', 'languages': ['eng'], 'page_number': 22, 'parent_id': '8a6b8bbb8270159701ca66d3eb939a57', 'filename': 'scr.pdf', 'category': 'ListItem', 'element_id': 'd6369fcc4afaa2219d6f5f4bf5bdb802'}, page_content='•Respect for others: Everyone deserves dignity, privacy, equality, opportunity, compassion, and empathy.'), Document(metadata={'source': 'scr.pdf', 'detection_class_prob': 0.7401345372200012, 'coordinates': {'points': ((np.float64(211.21802777777776), np.float64(794.76513671875)), (np.float64(211.21802777777776), np.float64(856.8409423828125)), (np.float64(1778.08349609375), np.float64(856.8409423828125)), (np.float64(1778.08349609375), np.float64(794.76513671875))), 'system': 'PixelSpace', 'layout_width': 2200, 'layout_height': 1700}, 'last_modified': '2025-06-20T20:05:25', 'filetype': 'application/pdf', 'languages': ['eng'], 'page_number': 22, 'parent_id': '8a6b8bbb8270159701ca66d3eb939a57', 'filename': 'scr.pdf', 'category': 'ListItem', 'element_id': '4ebf833bc34d8594f1d75af83d4f0848'}, page_content='•Honesty: Truth in all matters is key to fostering an ethical climate.'), Document(metadata={'source': 'scr.pdf', 'detection_class_prob': 0.8504519462585449, 'coordinates': {'points': ((np.float64(195.00042724609375), np.float64(879.195068359375)), (np.float64(195.00042724609375), np.float64(998.2285230488889)), (np.float64(2023.4335128735552), np.float64(998.2285230488889)), (np.float64(2023.4335128735552), np.float64(879.195068359375))), 'system': 'PixelSpace', 'layout_width': 2200, 'layout_height': 1700}, 'last_modified': '2025-06-20T20:05:25', 'filetype': 'application/pdf', 'languages': ['eng'], 'page_number': 22, 'parent_id': '8a6b8bbb8270159701ca66d3eb939a57', 'filename': 'scr.pdf', 'category': 'ListItem', 'element_id': '1e08279dc8d3793e71bc09a7cf292927'}, page_content='•Respect for laws: Ethical leadership should include enforcing all local, state, and federal laws.'), Document(metadata={'source': 'scr.pdf', 'detection_class_prob': 0.5624350905418396, 'coordinates': {'points': ((np.float64(221.43391666666668), np.float64(146.2237352711112)), (np.float64(221.43391666666668), np.float64(203.57302856445312)), (np.float64(1614.9637451171875), np.float64(203.57302856445312)), (np.float64(1614.9637451171875), np.float64(146.2237352711112))), 'system': 'PixelSpace', 'layout_width': 2200, 'layout_height': 1700}, 'last_modified': '2025-06-20T20:05:25', 'filetype': 'application/pdf', 'languages': ['eng'], 'page_number': 23, 'parent_id': '8a6b8bbb8270159701ca66d3eb939a57', 'filename': 'scr.pdf', 'category': 'NarrativeText', 'element_id': '6928e366b6e7389beb1a2ac127c544a9'}, page_content='•Responsibility: Promote ownership within an organization'), Document(metadata={'source': 'scr.pdf', 'detection_class_prob': 0.9000644683837891, 'coordinates': {'points': ((np.float64(208.8100128173828), np.float64(225.93182373046875)), (np.float64(208.8100128173828), np.float64(346.4549119377777)), (np.float64(1937.679090920889), np.float64(346.4549119377777)), (np.float64(1937.679090920889), np.float64(225.93182373046875))), 'system': 'PixelSpace', 'layout_width': 2200, 'layout_height': 1700}, 'last_modified': '2025-06-20T20:05:25', 'filetype': 'application/pdf', 'languages': ['eng'], 'page_number': 23, 'parent_id': '8a6b8bbb8270159701ca66d3eb939a57', 'filename': 'scr.pdf', 'category': 'ListItem', 'element_id': '272d604ae3877e502d064b405b16734e'}, page_content='•Transparency: Operating in a way that actions, decisions, and processes are open to scrutiny'), Document(metadata={'source': 'scr.pdf', 'detection_class_prob': 0.9169282913208008, 'coordinates': {'points': ((np.float64(197.4325408935547), np.float64(366.6750793457031)), (np.float64(197.4325408935547), np.float64(550.7726897155555)), (np.float64(1951.3502197265625), np.float64(550.7726897155555)), (np.float64(1951.3502197265625), np.float64(366.6750793457031))), 'system': 'PixelSpace', 'layout_width': 2200, 'layout_height': 1700}, 'last_modified': '2025-06-20T20:05:25', 'filetype': 'application/pdf', 'languages': ['eng'], 'page_number': 23, 'parent_id': '8a6b8bbb8270159701ca66d3eb939a57', 'filename': 'scr.pdf', 'category': 'ListItem', 'element_id': '5797c079e3e7dd64af5fbd09cfe2943b'}, page_content='•Compassion: Employees, the community surrounding a business, business partners, and customers should all be treated with concern for their well-being.'), Document(metadata={'source': 'scr.pdf', 'detection_class_prob': 0.8989681601524353, 'coordinates': {'points': ((np.float64(203.5049285888672), np.float64(572.9573364257812)), (np.float64(203.5049285888672), np.float64(693.7949119377778)), (np.float64(1949.14404296875), np.float64(693.7949119377778)), (np.float64(1949.14404296875), np.float64(572.9573364257812))), 'system': 'PixelSpace', 'layout_width': 2200, 'layout_height': 1700}, 'last_modified': '2025-06-20T20:05:25', 'filetype': 'application/pdf', 'languages': ['eng'], 'page_number': 23, 'parent_id': '8a6b8bbb8270159701ca66d3eb939a57', 'filename': 'scr.pdf', 'category': 'ListItem', 'element_id': '58c4b0baba8e11760509a6e402d0fcef'}, page_content='•Fairness: Everyone should have the same opportunities and be treated the same.'), Document(metadata={'source': 'scr.pdf', 'detection_class_prob': 0.7514925599098206, 'coordinates': {'points': ((np.float64(218.6124725341797), np.float64(715.0811157226562)), (np.float64(218.6124725341797), np.float64(775.8016357421875)), (np.float64(1597.236572265625), np.float64(775.8016357421875)), (np.float64(1597.236572265625), np.float64(715.0811157226562))), 'system': 'PixelSpace', 'layout_width': 2200, 'layout_height': 1700}, 'last_modified': '2025-06-20T20:05:25', 'filetype': 'application/pdf', 'languages': ['eng'], 'page_number': 23, 'parent_id': '8a6b8bbb8270159701ca66d3eb939a57', 'filename': 'scr.pdf', 'category': 'ListItem', 'element_id': 'bb5eec8dcfd91fc477df00c640c9a0bc'}, page_content='•Loyalty: ensures that they are committed to best practices.'), Document(metadata={'source': 'scr.pdf', 'detection_class_prob': 0.9073789119720459, 'coordinates': {'points': ((np.float64(197.9258575439453), np.float64(798.8626098632812)), (np.float64(197.9258575439453), np.float64(979.8399119377776)), (np.float64(1948.244384765625), np.float64(979.8399119377776)), (np.float64(1948.244384765625), np.float64(798.8626098632812))), 'system': 'PixelSpace', 'layout_width': 2200, 'layout_height': 1700}, 'last_modified': '2025-06-20T20:05:25', 'filetype': 'application/pdf', 'languages': ['eng'], 'page_number': 23, 'parent_id': '8a6b8bbb8270159701ca66d3eb939a57', 'filename': 'scr.pdf', 'category': 'ListItem', 'element_id': 'cb1dc17c8768ea2d5ddafc6d5c3dcc31'}, page_content='•Environmental concern: climate is changing, it is of utmost importance to be aware of and concerned about the environmental impacts a business has.'), Document(metadata={'source': 'scr.pdf', 'detection_class_prob': 0.7114163637161255, 'coordinates': {'points': ((np.float64(629.89111328125), np.float64(123.99801256888894)), (np.float64(629.89111328125), np.float64(217.6779327392578)), (np.float64(1510.4998779296875), np.float64(217.6779327392578)), (np.float64(1510.4998779296875), np.float64(123.99801256888894))), 'system': 'PixelSpace', 'layout_width': 2200, 'layout_height': 1700}, 'last_modified': '2025-06-20T20:05:25', 'filetype': 'application/pdf', 'languages': ['eng'], 'page_number': 24, 'filename': 'scr.pdf', 'category': 'Title', 'element_id': 'eaf0bf6f80fcfb03ab14f9324334966f'}, page_content='Corporate governance'), Document(metadata={'source': 'scr.pdf', 'detection_class_prob': 0.9078971147537231, 'coordinates': {'points': ((np.float64(226.81175231933594), np.float64(256.3356018066406)), (np.float64(226.81175231933594), np.float64(375.0593563822221)), (np.float64(1953.061767578125), np.float64(375.0593563822221)), (np.float64(1953.061767578125), np.float64(256.3356018066406))), 'system': 'PixelSpace', 'layout_width': 2200, 'layout_height': 1700}, 'last_modified': '2025-06-20T20:05:25', 'filetype': 'application/pdf', 'languages': ['eng'], 'page_number': 24, 'parent_id': 'eaf0bf6f80fcfb03ab14f9324334966f', 'filename': 'scr.pdf', 'category': 'ListItem', 'element_id': 'bd10b8f23307aa1a7598e8e8f54c145b'}, page_content=\"•Corporate governance is the system of rules and practices that guide a company's operations and relationships with its stakeholders.\"), Document(metadata={'source': 'scr.pdf', 'detection_class_prob': 0.9099191427230835, 'coordinates': {'points': ((np.float64(230.4935302734375), np.float64(399.57762415999997)), (np.float64(230.4935302734375), np.float64(518.0818563822222)), (np.float64(1946.9283447265625), np.float64(518.0818563822222)), (np.float64(1946.9283447265625), np.float64(399.57762415999997))), 'system': 'PixelSpace', 'layout_width': 2200, 'layout_height': 1700}, 'last_modified': '2025-06-20T20:05:25', 'filetype': 'application/pdf', 'languages': ['eng'], 'page_number': 24, 'parent_id': 'eaf0bf6f80fcfb03ab14f9324334966f', 'filename': 'scr.pdf', 'category': 'ListItem', 'element_id': '3ad96d8ea80a6a67b6b83d2737753ef3'}, page_content=\"• It's a way to ensure that a company is run responsibly and in the best interests of its shareholders and other stakeholders\"), Document(metadata={'source': 'scr.pdf', 'detection_class_prob': 0.8558225035667419, 'coordinates': {'points': ((np.float64(228.49957275390625), np.float64(539.8067016601562)), (np.float64(228.49957275390625), np.float64(661.1040786044445)), (np.float64(1953.6968994140625), np.float64(661.1040786044445)), (np.float64(1953.6968994140625), np.float64(539.8067016601562))), 'system': 'PixelSpace', 'layout_width': 2200, 'layout_height': 1700}, 'last_modified': '2025-06-20T20:05:25', 'filetype': 'application/pdf', 'languages': ['eng'], 'page_number': 24, 'parent_id': 'eaf0bf6f80fcfb03ab14f9324334966f', 'filename': 'scr.pdf', 'category': 'ListItem', 'element_id': '737f7e94f47643d14779a2f193c6f65a'}, page_content='•Corporate governance is the system by which companies are directed and controlled.'), Document(metadata={'source': 'scr.pdf', 'detection_class_prob': 0.884922444820404, 'coordinates': {'points': ((np.float64(231.24560546875), np.float64(680.0692749023438)), (np.float64(231.24560546875), np.float64(804.1265786044444)), (np.float64(1950.35888671875), np.float64(804.1265786044444)), (np.float64(1950.35888671875), np.float64(680.0692749023438))), 'system': 'PixelSpace', 'layout_width': 2200, 'layout_height': 1700}, 'last_modified': '2025-06-20T20:05:25', 'filetype': 'application/pdf', 'languages': ['eng'], 'page_number': 24, 'parent_id': 'eaf0bf6f80fcfb03ab14f9324334966f', 'filename': 'scr.pdf', 'category': 'ListItem', 'element_id': '0340c7f173b2847da1360edcd8d3e801'}, page_content='• Boards of directors are responsible for the governance of their companies.'), Document(metadata={'source': 'scr.pdf', 'detection_class_prob': 0.9259330630302429, 'coordinates': {'points': ((np.float64(227.3255157470703), np.float64(826.8467407226562)), (np.float64(227.3255157470703), np.float64(1008.4443563822222)), (np.float64(1948.68701171875), np.float64(1008.4443563822222)), (np.float64(1948.68701171875), np.float64(826.8467407226562))), 'system': 'PixelSpace', 'layout_width': 2200, 'layout_height': 1700}, 'last_modified': '2025-06-20T20:05:25', 'filetype': 'application/pdf', 'languages': ['eng'], 'page_number': 24, 'parent_id': 'eaf0bf6f80fcfb03ab14f9324334966f', 'filename': 'scr.pdf', 'category': 'ListItem', 'element_id': 'e9ba82c90903b1ee91584f4896119101'}, page_content=\"•The shareholders' role in governance is to appoint the directors and the auditors and to satisfy themselves that an appropriate governance structure is in place.\"), Document(metadata={'source': 'scr.pdf', 'detection_class_prob': 0.9191882610321045, 'coordinates': {'points': ((np.float64(193.4481964111328), np.float64(129.87817971555558)), (np.float64(193.4481964111328), np.float64(370.9729674933333)), (np.float64(1982.628736925221), np.float64(370.9729674933333)), (np.float64(1982.628736925221), np.float64(129.87817971555558))), 'system': 'PixelSpace', 'layout_width': 2200, 'layout_height': 1700}, 'last_modified': '2025-06-20T20:05:25', 'filetype': 'application/pdf', 'languages': ['eng'], 'page_number': 25, 'parent_id': 'eaf0bf6f80fcfb03ab14f9324334966f', 'filename': 'scr.pdf', 'category': 'ListItem', 'element_id': '70f7342397754655b8d21b42a6f05df6'}, page_content='•The responsibilities of the board include setting the company’s strategic aims, providing the leadership to put them into effect, supervising the management of the business and reporting to shareholders on their stewardship.'), Document(metadata={'source': 'scr.pdf', 'detection_class_prob': 0.770733118057251, 'coordinates': {'points': ((np.float64(205.65777587890625), np.float64(393.6954040527344)), (np.float64(205.65777587890625), np.float64(454.59393310546875)), (np.float64(1086.0513916015625), np.float64(454.59393310546875)), (np.float64(1086.0513916015625), np.float64(393.6954040527344))), 'system': 'PixelSpace', 'layout_width': 2200, 'layout_height': 1700}, 'last_modified': '2025-06-20T20:05:25', 'filetype': 'application/pdf', 'languages': ['eng'], 'page_number': 25, 'filename': 'scr.pdf', 'category': 'Title', 'element_id': 'fb51b6a5c38ec2e781403c11bc584b26'}, page_content='•Benefits of Corporate Governance'), Document(metadata={'source': 'scr.pdf', 'detection_class_prob': 0.8351827263832092, 'coordinates': {'points': ((np.float64(206.05296325683594), np.float64(554.3933715820312)), (np.float64(206.05296325683594), np.float64(616.1543563822222)), (np.float64(1721.1624755859375), np.float64(616.1543563822222)), (np.float64(1721.1624755859375), np.float64(554.3933715820312))), 'system': 'PixelSpace', 'layout_width': 2200, 'layout_height': 1700}, 'last_modified': '2025-06-20T20:05:25', 'filetype': 'application/pdf', 'languages': ['eng'], 'page_number': 25, 'parent_id': 'fb51b6a5c38ec2e781403c11bc584b26', 'filename': 'scr.pdf', 'category': 'ListItem', 'element_id': 'f0b60ec157bff643ca2721fe517bb56e'}, page_content='• Build trust with investors, the community, and public officials'), Document(metadata={'source': 'scr.pdf', 'detection_class_prob': 0.892516016960144, 'coordinates': {'points': ((np.float64(191.9280548095703), np.float64(637.8541870117188)), (np.float64(191.9280548095703), np.float64(759.1765786044444)), (np.float64(1982.5779281304442), np.float64(759.1765786044444)), (np.float64(1982.5779281304442), np.float64(637.8541870117188))), 'system': 'PixelSpace', 'layout_width': 2200, 'layout_height': 1700}, 'last_modified': '2025-06-20T20:05:25', 'filetype': 'application/pdf', 'languages': ['eng'], 'page_number': 25, 'parent_id': 'fb51b6a5c38ec2e781403c11bc584b26', 'filename': 'scr.pdf', 'category': 'ListItem', 'element_id': 'c53da22ac9ef8ead33642bcddbfc63d6'}, page_content=\"• Give investors and other stakeholders a clear idea of a company's direction and business integrity\"), Document(metadata={'source': 'scr.pdf', 'detection_class_prob': 0.8244152069091797, 'coordinates': {'points': ((np.float64(207.09788513183594), np.float64(778.9488525390625)), (np.float64(207.09788513183594), np.float64(841.3286743164062)), (np.float64(1726.6513671875), np.float64(841.3286743164062)), (np.float64(1726.6513671875), np.float64(778.9488525390625))), 'system': 'PixelSpace', 'layout_width': 2200, 'layout_height': 1700}, 'last_modified': '2025-06-20T20:05:25', 'filetype': 'application/pdf', 'languages': ['eng'], 'page_number': 25, 'parent_id': 'fb51b6a5c38ec2e781403c11bc584b26', 'filename': 'scr.pdf', 'category': 'ListItem', 'element_id': 'a4f81a4ab92bd5c80ece6b89da279e02'}, page_content='• Promote long-term financial viability, opportunity, and returns'), Document(metadata={'source': 'scr.pdf', 'detection_class_prob': 0.7931315898895264, 'coordinates': {'points': ((np.float64(209.4873504638672), np.float64(865.4217908266667)), (np.float64(209.4873504638672), np.float64(922.6307452711111)), (np.float64(997.3124389648438), np.float64(922.6307452711111)), (np.float64(997.3124389648438), np.float64(865.4217908266667))), 'system': 'PixelSpace', 'layout_width': 2200, 'layout_height': 1700}, 'last_modified': '2025-06-20T20:05:25', 'filetype': 'application/pdf', 'languages': ['eng'], 'page_number': 25, 'parent_id': 'fb51b6a5c38ec2e781403c11bc584b26', 'filename': 'scr.pdf', 'category': 'ListItem', 'element_id': '841b0c1a5f86697bd7f16730758c7ab8'}, page_content='• Facilitate the raising of capital'), Document(metadata={'source': 'scr.pdf', 'detection_class_prob': 0.7673605680465698, 'coordinates': {'points': ((np.float64(211.04298400878906), np.float64(947.1490130488888)), (np.float64(211.04298400878906), np.float64(1004.3579674933333)), (np.float64(1044.17529296875), np.float64(1004.3579674933333)), (np.float64(1044.17529296875), np.float64(947.1490130488888))), 'system': 'PixelSpace', 'layout_width': 2200, 'layout_height': 1700}, 'last_modified': '2025-06-20T20:05:25', 'filetype': 'application/pdf', 'languages': ['eng'], 'page_number': 25, 'parent_id': 'fb51b6a5c38ec2e781403c11bc584b26', 'filename': 'scr.pdf', 'category': 'ListItem', 'element_id': '23d1bc3c635674b6bc50eaf868ade569'}, page_content='• Contribute to rising share prices'), Document(metadata={'source': 'scr.pdf', 'detection_class_prob': 0.8277425169944763, 'coordinates': {'points': ((np.float64(205.50711059570312), np.float64(1026.4808349609375)), (np.float64(205.50711059570312), np.float64(1086.710693359375)), (np.float64(1587.89453125), np.float64(1086.710693359375)), (np.float64(1587.89453125), np.float64(1026.4808349609375))), 'system': 'PixelSpace', 'layout_width': 2200, 'layout_height': 1700}, 'last_modified': '2025-06-20T20:05:25', 'filetype': 'application/pdf', 'languages': ['eng'], 'page_number': 25, 'parent_id': 'fb51b6a5c38ec2e781403c11bc584b26', 'filename': 'scr.pdf', 'category': 'ListItem', 'element_id': '502abf0297abd2ada30abe9ea1b19cba'}, page_content=\"• Improve a company's reputation and customer retention\"), Document(metadata={'source': 'scr.pdf', 'detection_class_prob': 0.8004417419433594, 'coordinates': {'points': ((np.float64(213.2611944444444), np.float64(1106.9942626953125)), (np.float64(213.2611944444444), np.float64(1167.81213416)), (np.float64(1830.3477783203125), np.float64(1167.81213416)), (np.float64(1830.3477783203125), np.float64(1106.9942626953125))), 'system': 'PixelSpace', 'layout_width': 2200, 'layout_height': 1700}, 'last_modified': '2025-06-20T20:05:25', 'filetype': 'application/pdf', 'languages': ['eng'], 'page_number': 25, 'parent_id': 'fb51b6a5c38ec2e781403c11bc584b26', 'filename': 'scr.pdf', 'category': 'ListItem', 'element_id': '55768978d80a5e00b020eda314742793'}, page_content='• Reduce the potential for financial loss, waste, risks, and corruption'), Document(metadata={'source': 'scr.pdf', 'detection_class_prob': 0.6522143483161926, 'coordinates': {'points': ((np.float64(268.16583251953125), np.float64(352.5845686044443)), (np.float64(268.16583251953125), np.float64(409.7935230488888)), (np.float64(1297.7808837890625), np.float64(409.7935230488888)), (np.float64(1297.7808837890625), np.float64(352.5845686044443))), 'system': 'PixelSpace', 'layout_width': 2200, 'layout_height': 1700}, 'last_modified': '2025-06-20T20:05:25', 'filetype': 'application/pdf', 'languages': ['eng'], 'page_number': 26, 'filename': 'scr.pdf', 'category': 'Title', 'element_id': 'c7cbc453b74fb75c2dba665eab47fee2'}, page_content='•Examples of Good Corporate Governance:'), Document(metadata={'source': 'scr.pdf', 'detection_class_prob': 0.8874484896659851, 'coordinates': {'points': ((np.float64(272.4548645019531), np.float64(515.4705200195312)), (np.float64(272.4548645019531), np.float64(634.5429674933332)), (np.float64(1824.3695068359375), np.float64(634.5429674933332)), (np.float64(1824.3695068359375), np.float64(515.4705200195312))), 'system': 'PixelSpace', 'layout_width': 2200, 'layout_height': 1700}, 'last_modified': '2025-06-20T20:05:25', 'filetype': 'application/pdf', 'languages': ['eng'], 'page_number': 26, 'parent_id': 'c7cbc453b74fb75c2dba665eab47fee2', 'filename': 'scr.pdf', 'category': 'ListItem', 'element_id': 'bee2ba6d18ed115b6a2001737fc9a730'}, page_content='• Tata Group (India): Known for ethical leadership and corporate social responsibility.'), Document(metadata={'source': 'scr.pdf', 'detection_class_prob': 0.8904737234115601, 'coordinates': {'points': ((np.float64(268.0312194824219), np.float64(659.0609574933333)), (np.float64(268.0312194824219), np.float64(777.5651897155554)), (np.float64(1924.6148681640625), np.float64(777.5651897155554)), (np.float64(1924.6148681640625), np.float64(659.0609574933333))), 'system': 'PixelSpace', 'layout_width': 2200, 'layout_height': 1700}, 'last_modified': '2025-06-20T20:05:25', 'filetype': 'application/pdf', 'languages': ['eng'], 'page_number': 26, 'parent_id': 'c7cbc453b74fb75c2dba665eab47fee2', 'filename': 'scr.pdf', 'category': 'ListItem', 'element_id': '075eb88ac6572592f42cf0d59e9c1f33'}, page_content='• Microsoft: Focuses on transparency, accountability, and stakeholder engagement.'), Document(metadata={'source': 'scr.pdf', 'detection_class_prob': 0.6821740865707397, 'coordinates': {'points': ((np.float64(272.53009033203125), np.float64(883.8104019377777)), (np.float64(272.53009033203125), np.float64(941.0193563822221)), (np.float64(1350.0855712890625), np.float64(941.0193563822221)), (np.float64(1350.0855712890625), np.float64(883.8104019377777))), 'system': 'PixelSpace', 'layout_width': 2200, 'layout_height': 1700}, 'last_modified': '2025-06-20T20:05:25', 'filetype': 'application/pdf', 'languages': ['eng'], 'page_number': 26, 'parent_id': 'c7cbc453b74fb75c2dba665eab47fee2', 'filename': 'scr.pdf', 'category': 'ListItem', 'element_id': '57fec616abcc59452cec4bce5f5e6cbc'}, page_content='•Examples of Corporate Governance Failures:'), Document(metadata={'source': 'scr.pdf', 'detection_class_prob': 0.5939055681228638, 'coordinates': {'points': ((np.float64(276.5996944444444), np.float64(1047.2645686044443)), (np.float64(276.5996944444444), np.float64(1104.4735230488889)), (np.float64(1543.06103515625), np.float64(1104.4735230488889)), (np.float64(1543.06103515625), np.float64(1047.2645686044443))), 'system': 'PixelSpace', 'layout_width': 2200, 'layout_height': 1700}, 'last_modified': '2025-06-20T20:05:25', 'filetype': 'application/pdf', 'languages': ['eng'], 'page_number': 26, 'filename': 'scr.pdf', 'category': 'Title', 'element_id': '64bad4502cc6d16045e0eee920ed6f7a'}, page_content='• Enron (2001): Accounting fraud led to bankruptcy.'), Document(metadata={'source': 'scr.pdf', 'coordinates': {'points': ((np.float64(276.5996944444444), np.float64(1128.9917908266666)), (np.float64(276.5996944444444), np.float64(1186.2007452711111)), (np.float64(1865.3419454331106), np.float64(1186.2007452711111)), (np.float64(1865.3419454331106), np.float64(1128.9917908266666))), 'system': 'PixelSpace', 'layout_width': 2200, 'layout_height': 1700}, 'last_modified': '2025-06-20T20:05:25', 'filetype': 'application/pdf', 'languages': ['eng'], 'page_number': 26, 'parent_id': '64bad4502cc6d16045e0eee920ed6f7a', 'filename': 'scr.pdf', 'category': 'ListItem', 'element_id': '438f384d3d44ded68eba1fc3ee6ec098'}, page_content='Satyam Scandal (2009): Financial irregularities and misreporting.')]\n"
     ]
    }
   ],
   "source": [
    "print(docs_local)"
   ]
  },
  {
   "cell_type": "code",
   "execution_count": 7,
   "id": "11aba91b",
   "metadata": {},
   "outputs": [
    {
     "name": "stdout",
     "output_type": "stream",
     "text": [
      "•According to Keith Davis, the term social responsibility refers to two types of business obligations:\n",
      "•The socio-economic obligation: . Business should be carried out in such a manner that it becomes a profitable venture for everyone from the employees, investors, consumers, to the government and the general public.\n",
      "•The socio-human obligation:\n",
      "•The socio-human obligation of every business is to nurture and develop human values (such as morale, cooperation, motivation and self-realization in work\n",
      "•The businessman should, therefore, consider the impact of his actions on all to which he is related\n",
      "•His task is to mediate among these interests, to ensure that each gets a square deal and that nobody‟s interests are unduly sacrificed to those of others.\n"
     ]
    }
   ],
   "source": [
    "first_page_docs = [doc for doc in docs_local if doc.metadata.get(\"page_number\") == 3]\n",
    "\n",
    "for doc in first_page_docs:\n",
    "    print(doc.page_content)"
   ]
  },
  {
   "cell_type": "code",
   "execution_count": 11,
   "id": "cd360a4d",
   "metadata": {},
   "outputs": [],
   "source": [
    "section_data =[]\n",
    "section =\"\"\n",
    "for docs in docs_local:\n",
    "    if docs.metadata.get(\"category\") == \"Title\":\n",
    "        \n",
    "        section_data.append(section)\n",
    "        section =\"\"\n",
    "        section+= docs.page_content + \"\\n\"\n",
    "        \n",
    "    else:\n",
    "        section += docs.page_content + \"\\n\"\n",
    "\n",
    "       \n",
    "   "
   ]
  },
  {
   "cell_type": "code",
   "execution_count": null,
   "id": "ed255bb2",
   "metadata": {},
   "outputs": [
    {
     "name": "stderr",
     "output_type": "stream",
     "text": [
      "INFO: Use pytorch device_name: cpu\n",
      "INFO: Load pretrained SentenceTransformer: all-MiniLM-L6-v2\n"
     ]
    },
    {
     "name": "stdout",
     "output_type": "stream",
     "text": [
      "Section 1 has 4 chunks\n",
      "Section 2 has 2 chunks\n",
      "Section 3 has 1 chunks\n",
      "Section 4 has 3 chunks\n",
      "Section 5 has 13 chunks\n",
      "Section 6 has 1 chunks\n",
      "Section 7 has 1 chunks\n",
      "Section 8 has 4 chunks\n",
      "Section 9 has 1 chunks\n",
      "Section 10 has 1 chunks\n",
      "Section 11 has 2 chunks\n",
      "Section 12 has 4 chunks\n",
      "Section 13 has 3 chunks\n",
      "Section 14 has 2 chunks\n",
      "Section 15 has 1 chunks\n",
      "Section 16 has 1 chunks\n"
     ]
    },
    {
     "data": {
      "text/plain": [
       "' vectorindex = FAISS.from_documents(all_chunks, embeddings) '"
      ]
     },
     "execution_count": 12,
     "metadata": {},
     "output_type": "execute_result"
    }
   ],
   "source": [
    "from langchain.schema import Document\n",
    "from langchain.text_splitter import RecursiveCharacterTextSplitter\n",
    "from langchain.vectorstores import FAISS\n",
    "from langchain_huggingface import HuggingFaceEmbeddings\n",
    "from sentence_transformers import SentenceTransformer\n",
    "\n",
    "# Initialize\n",
    "model = HuggingFaceEmbeddings(model_name=\"all-MiniLM-L6-v2\")\n",
    "text_splitter = RecursiveCharacterTextSplitter(chunk_size=500, chunk_overlap=0)\n",
    "\n",
    "# Suppose section_data is a list of section texts\n",
    "all_chunks = []\n",
    "raw_chunks =[]\n",
    "\n",
    "for i, section in enumerate(section_data):\n",
    "    if len(section) > 0:\n",
    "        chunks = text_splitter.split_text(section)\n",
    "        print(f\"Section {i} has {len(chunks)} chunks\")\n",
    "        for j, chunk in enumerate(chunks):\n",
    "            # Optional: Add metadata like section number\n",
    "            all_chunks.append(Document(\n",
    "                page_content=chunk,\n",
    "                metadata={\"section_id\": i, \"chunk_id\": j}\n",
    "            ))\n",
    "            raw_chunks.append(chunk)\n",
    "\n",
    "# Create the vector index\n",
    "embeddings = model.embed_documents(raw_chunks)\n",
    "\n",
    "\n",
    "\n"
   ]
  },
  {
   "cell_type": "code",
   "execution_count": null,
   "id": "3c68c796",
   "metadata": {},
   "outputs": [],
   "source": [
    "#cluster embeddings\n",
    "from sklearn.cluster import KMeans\n",
    "num_topics = 10\n",
    "kmeans = KMeans(n_clusters=num_topics, random_state=42)\n",
    "labels = kmeans.fit_predict(embeddings)\n"
   ]
  },
  {
   "cell_type": "code",
   "execution_count": 14,
   "id": "6b786ff6",
   "metadata": {},
   "outputs": [],
   "source": [
    "import os\n",
    "import dotenv\n",
    "dotenv.load_dotenv()\n",
    "from langchain_groq import ChatGroq\n",
    "llm = ChatGroq(\n",
    "    model=\"llama-3.1-8b-instant\",\n",
    "    temperature=0,\n",
    "    max_tokens=700,\n",
    "    timeout=None,\n",
    "    max_retries=2,\n",
    ") "
   ]
  },
  {
   "cell_type": "code",
   "execution_count": 15,
   "id": "06963c14",
   "metadata": {},
   "outputs": [
    {
     "name": "stderr",
     "output_type": "stream",
     "text": [
      "INFO: HTTP Request: POST https://api.groq.com/openai/v1/chat/completions \"HTTP/1.1 200 OK\"\n",
      "INFO: HTTP Request: POST https://api.groq.com/openai/v1/chat/completions \"HTTP/1.1 200 OK\"\n",
      "INFO: HTTP Request: POST https://api.groq.com/openai/v1/chat/completions \"HTTP/1.1 200 OK\"\n",
      "INFO: HTTP Request: POST https://api.groq.com/openai/v1/chat/completions \"HTTP/1.1 200 OK\"\n",
      "INFO: HTTP Request: POST https://api.groq.com/openai/v1/chat/completions \"HTTP/1.1 200 OK\"\n",
      "INFO: HTTP Request: POST https://api.groq.com/openai/v1/chat/completions \"HTTP/1.1 200 OK\"\n",
      "INFO: HTTP Request: POST https://api.groq.com/openai/v1/chat/completions \"HTTP/1.1 200 OK\"\n",
      "INFO: HTTP Request: POST https://api.groq.com/openai/v1/chat/completions \"HTTP/1.1 200 OK\"\n",
      "INFO: HTTP Request: POST https://api.groq.com/openai/v1/chat/completions \"HTTP/1.1 200 OK\"\n",
      "INFO: HTTP Request: POST https://api.groq.com/openai/v1/chat/completions \"HTTP/1.1 200 OK\"\n"
     ]
    }
   ],
   "source": [
    "import re\n",
    "cluster_topic_titles = {}\n",
    "for cluster_id in set(labels):\n",
    "    rep_idx = list(labels).index(cluster_id)\n",
    "    rep_chunk = raw_chunks[rep_idx]\n",
    "\n",
    "    # Ask LLM to name this topic\n",
    "    # Updated prompt\n",
    "    prompt = (\n",
    "        f\"Give a very short and clear title for the following topic content.\\n\"\n",
    "        f\"Just return the title. No explanations, no quotes, no alternatives, no extra text.\\n\\n\"\n",
    "        f\"{rep_chunk}\"\n",
    "    )\n",
    "    raw_title = llm.invoke(prompt).content.strip()\n",
    "    clean_title = re.sub(r'^[\"“”‘’\\'*]*|[\"“”‘’\\'*.:]*$', '', raw_title)  # trim quotes, punctuation\n",
    "    clean_title = re.sub(r'^(Topic Title|Title)\\s*[:\\-]\\s*', '', clean_title, flags=re.IGNORECASE)\n",
    "    clean_title = clean_title.split(\"\\n\")[0].strip()\n",
    "    cluster_topic_titles[cluster_id] = clean_title\n",
    "    \n",
    "labeled_chunks = []\n",
    "for i, chunk_text in enumerate(raw_chunks):\n",
    "    chunk_meta = {\n",
    "        \"section_id\": all_chunks[i].metadata[\"section_id\"],\n",
    "        \"chunk_id\": all_chunks[i].metadata[\"chunk_id\"],\n",
    "        \"cluster_id\": int(labels[i]),\n",
    "        \"topic\": cluster_topic_titles[labels[i]]\n",
    "    }\n",
    "    labeled_chunks.append({\n",
    "        \"text\": chunk_text,\n",
    "        \"embedding\": embeddings[i],\n",
    "        \"metadata\": chunk_meta\n",
    "    })"
   ]
  },
  {
   "cell_type": "code",
   "execution_count": 16,
   "id": "4a66f09f",
   "metadata": {},
   "outputs": [
    {
     "name": "stderr",
     "output_type": "stream",
     "text": [
      "INFO: Loading faiss with AVX2 support.\n",
      "INFO: Successfully loaded faiss with AVX2 support.\n",
      "INFO: Failed to load GPU Faiss: name 'GpuIndexIVFFlat' is not defined. Will not load constructor refs for GPU indexes. This is only an error if you're trying to use GPU Faiss.\n"
     ]
    }
   ],
   "source": [
    "vectorstore = FAISS.from_texts(\n",
    "    texts=[chunk[\"text\"] for chunk in labeled_chunks],\n",
    "    embedding=model,\n",
    "    metadatas=[chunk[\"metadata\"] for chunk in labeled_chunks]\n",
    ")\n",
    "\n",
    "# === Done! You can now use vectorstore.as_retriever() ===\n",
    "retriever = vectorstore.as_retriever(search_kwargs=dict(k=5))"
   ]
  },
  {
   "cell_type": "code",
   "execution_count": 17,
   "id": "b84da42f",
   "metadata": {},
   "outputs": [
    {
     "name": "stdout",
     "output_type": "stream",
     "text": [
      "Unique Topics:\n",
      "- Business Ethics\n",
      "- Continuous Improvement\n",
      "- Effective Labour Management\n",
      "- Interested Groups\n",
      "- Internal Audit\n",
      "- Protecting Shareholder Interests\n",
      "- Social Compliance Audits\n",
      "- Social Responsibilities of Business\n",
      "- Socio-Economic and Socio-Human Obligations of Business\n",
      "- What is Provided\n"
     ]
    }
   ],
   "source": [
    "# Get all stored documents from FAISS\n",
    "all_docs = vectorstore.similarity_search(\"placeholder\", k=len(vectorstore.docstore._dict))\n",
    "\n",
    "# Extract and print all unique topics\n",
    "topics = set()\n",
    "for doc in all_docs:\n",
    "    topic = doc.metadata.get(\"topic\")\n",
    "    if topic:\n",
    "        topics.add(topic)\n",
    "\n",
    "\n",
    "print(\"Unique Topics:\")\n",
    "for topic in sorted(topics):\n",
    "    print(\"-\", topic)\n"
   ]
  },
  {
   "cell_type": "code",
   "execution_count": 19,
   "id": "b095a7ed",
   "metadata": {},
   "outputs": [],
   "source": [
    "def get_chunks_by_topic(vectorstore, topic_query):\n",
    "    all_docs = vectorstore.similarity_search(\"placeholder\", k=len(vectorstore.docstore._dict))\n",
    "    \n",
    "    topic_chunks = []\n",
    "    for doc in all_docs:\n",
    "        if doc.metadata.get(\"topic\", \"\").lower() == topic_query.lower():\n",
    "            topic_chunks.append(doc.page_content)\n",
    "    \n",
    "    return topic_chunks\n"
   ]
  },
  {
   "cell_type": "code",
   "execution_count": 20,
   "id": "a04306da",
   "metadata": {},
   "outputs": [
    {
     "name": "stdout",
     "output_type": "stream",
     "text": [
      "\n",
      "Found 6 chunks for topic 'Internal Audit':\n",
      "\n",
      "Chunk 1:\n",
      "annually. - External auditors\n",
      "might not fully understand the\n",
      "\n",
      "Chunk 2:\n",
      "Internal Audit\n",
      "\n",
      "Chunk 3:\n",
      "errors that internal audits might\n",
      "company’s internal processes. -\n",
      "\n",
      "Chunk 4:\n",
      "always detect major frauds or external risks.\n",
      "\n",
      "Chunk 5:\n",
      "External Audit - Provides independent and unbiased assessment. - Enhances stakeholder confidence, especially for investors and regulatory bodies. - Helps detect major frauds and internal audits.\n",
      "More expensive compared to\n",
      "Limited\n",
      "frequency, usually conducted\n",
      "\n",
      "Chunk 6:\n",
      "monitoring of financial and operational processes. - Helps identify risks and inefficiencies before external scrutiny. - More cost-effective compared to external audits. - Ensures compliance with internal policies and regulations. - Improves overall management control and decision-making. - May lack objectivity since auditors are part of the organization. - Findings might be influenced by internal pressures or conflicts of interest. - Limited credibility compared to external audits. - May not\n",
      "\n"
     ]
    }
   ],
   "source": [
    "topic = \"Internal Audit\"  # or input(\"Enter topic: \")\n",
    "chunks = get_chunks_by_topic(vectorstore, topic)\n",
    "\n",
    "print(f\"\\nFound {len(chunks)} chunks for topic '{topic}':\\n\")\n",
    "for i, chunk in enumerate(chunks, 1):\n",
    "    print(f\"Chunk {i}:\\n{chunk}\\n\")\n"
   ]
  },
  {
   "cell_type": "code",
   "execution_count": 21,
   "id": "701bed56",
   "metadata": {},
   "outputs": [],
   "source": [
    "from langchain.prompts import PromptTemplate\n",
    "\n",
    "template = \"\"\"\n",
    "You are an expert educational content designer.\n",
    "\n",
    "Your task is to help retrieve **realistic educational visuals** from the web for the topic **\"{topic}\"**.\n",
    "\n",
    "Instructions:\n",
    "- You will be given text chunks related to the topic.\n",
    "- Analyze all chunks holistically.\n",
    "- Identify 1 to 3 key visualizable concepts.\n",
    "- Based on the concepts, suggest **1 to 3 visual descriptors** that are suitable for web image retrieval.\n",
    "- These images will be fetched from sources like **DuckDuckGo**\n",
    "- Later, a separate model (like BLIP2) will describe the retrieved image and generate audio captions — so your job is just to suggest the most **searchable visual ideas**.\n",
    "-- If only 1 or 2 are needed, output fewer.\n",
    "\n",
    "Important Notes:\n",
    "- Your descriptors must be **web-search friendly**, realistic, and likely to return good visuals.\n",
    "- Do NOT suggest fictional or AI-specific styles like “a digital painting” or “ultra-detailed 4K illustration”.\n",
    "- You **can suggest things like graphs, real-world scenes, physical experiments**, etc., if they are commonly found online.\n",
    "- If you mention a physics diagram or formula chart, clarify that it's **just a reference to what's expected to be found** on the web.\n",
    "\n",
    "Return format strictly as:\n",
    "{{\n",
    "  \"image1\": \"<descriptor 1>\",\n",
    "  \"image2\": \"<descriptor 2>\",\n",
    "  \"image3\": \"<descriptor 3>\"\n",
    "}}\n",
    "\n",
    "Rules:\n",
    "- If one image is enough, return only \"image1\".\n",
    "- Do not include any narration or explanation — only the descriptors.\n",
    "- Do not use JSON formatting or code — just follow the shown format.\n",
    "\n",
    "Content Chunks:\n",
    "{chunks}\n",
    "\"\"\"\n",
    "\n",
    "prompt = PromptTemplate.from_template(template)\n"
   ]
  },
  {
   "cell_type": "code",
   "execution_count": 22,
   "id": "30faaae2",
   "metadata": {},
   "outputs": [],
   "source": [
    "from langchain.prompts import FewShotPromptTemplate, PromptTemplate\n",
    "\n",
    "# Example descriptor generation shots\n",
    "examples = [\n",
    "  {\n",
    "    \"topic\": \"Photosynthesis\",\n",
    "    \"chunks\": \"Photosynthesis is the process by which green plants use sunlight to make food from carbon dioxide and water. Oxygen is released as a byproduct.\",\n",
    "    \"descriptors\": [\n",
    "      \"Diagram of photosynthesis in plants\",\n",
    "      \"Chloroplast structure and function\",\n",
    "      \"Photosynthesis chemical reaction chart\"\n",
    "    ]\n",
    "  },\n",
    "  {\n",
    "    \"topic\": \"Newton's Laws of Motion\",\n",
    "    \"chunks\": \"Newton's three laws describe how objects move and interact with forces. The first law is about inertia, second about force and acceleration, and third about action and reaction.\",\n",
    "    \"descriptors\": [\n",
    "      \"Illustration of Newton's 3 laws with examples\",\n",
    "      \"Force and acceleration graph\",\n",
    "      \"Action-reaction force diagram\"\n",
    "    ]\n",
    "  },\n",
    "  {\n",
    "    \"topic\": \"Acids and Bases\",\n",
    "    \"chunks\": \"Acids release H+ ions while bases release OH- ions. They are measured on the pH scale. Neutralization reactions occur when acids and bases combine.\",\n",
    "    \"descriptors\": [\n",
    "      \"pH scale with common substances\",\n",
    "      \"Acid-base titration curve\",\n",
    "      \"Neutralization reaction diagram\"\n",
    "    ]\n",
    "  },\n",
    "  {\n",
    "    \"topic\": \"Mitosis\",\n",
    "    \"chunks\": \"Mitosis is the process of cell division in which a single cell divides into two identical daughter cells. It includes stages like prophase, metaphase, anaphase, and telophase.\",\n",
    "    \"descriptors\": [\n",
    "      \"Mitosis stages under microscope\",\n",
    "      \"Cell cycle diagram with mitosis\",\n",
    "      \"Mitosis vs meiosis comparison chart\"\n",
    "    ]\n",
    "  },\n",
    "  {\n",
    "    \"topic\": \"Ohm's Law\",\n",
    "    \"chunks\": \"Ohm's Law states that the current through a conductor is directly proportional to voltage and inversely proportional to resistance.\",\n",
    "    \"descriptors\": [\n",
    "      \"Ohm's law triangle diagram\",\n",
    "      \"Current-voltage-resistance graph\",\n",
    "      \"Simple circuit showing Ohm's Law\"\n",
    "    ]\n",
    "  },\n",
    "  {\n",
    "    \"topic\": \"Periodic Table\",\n",
    "    \"chunks\": \"The periodic table organizes elements based on atomic number and properties. Groups and periods reveal patterns in reactivity and structure.\",\n",
    "    \"descriptors\": [\n",
    "      \"Modern periodic table labeled\",\n",
    "      \"Group trends in periodic table\",\n",
    "      \"Periodic table block diagram\"\n",
    "    ]\n",
    "  },\n",
    "  {\n",
    "    \"topic\": \"DNA Structure\",\n",
    "    \"chunks\": \"DNA is composed of nucleotides forming a double helix. It carries genetic instructions using base pairs A-T and G-C.\",\n",
    "    \"descriptors\": [\n",
    "      \"DNA double helix 3D model\",\n",
    "      \"Base pairing in DNA strands\",\n",
    "      \"Nucleotide structure diagram\"\n",
    "    ]\n",
    "  },\n",
    "  {\n",
    "    \"topic\": \"Chemical Bonding\",\n",
    "    \"chunks\": \"Atoms bond to achieve stable electron configurations. Common types include ionic, covalent, and metallic bonding.\",\n",
    "    \"descriptors\": [\n",
    "      \"Ionic vs covalent bonding diagram\",\n",
    "      \"Lewis structure examples\",\n",
    "      \"Molecular structure of water\"\n",
    "    ]\n",
    "  },\n",
    "  {\n",
    "    \"topic\": \"Thermodynamics\",\n",
    "    \"chunks\": \"Thermodynamics studies energy transfer. Laws of thermodynamics describe conservation of energy and entropy changes.\",\n",
    "    \"descriptors\": [\n",
    "      \"Laws of thermodynamics flowchart\",\n",
    "      \"Heat engine efficiency diagram\",\n",
    "      \"Entropy change vs temperature graph\"\n",
    "    ]\n",
    "  },\n",
    "  {\n",
    "    \"topic\": \"Human Digestive System\",\n",
    "    \"chunks\": \"The digestive system breaks down food into nutrients. Key organs include mouth, stomach, intestines, liver, and pancreas.\",\n",
    "    \"descriptors\": [\n",
    "      \"Human digestive system labeled diagram\",\n",
    "      \"Process of digestion infographic\",\n",
    "      \"Enzyme function in digestion chart\"\n",
    "    ]\n",
    "  }\n",
    "]\n"
   ]
  },
  {
   "cell_type": "code",
   "execution_count": 38,
   "id": "7160324b",
   "metadata": {},
   "outputs": [],
   "source": [
    "\n",
    "topic = \"Social Responsibilities of Business\"  # or input(\"Enter topic: \")\n",
    "chunks = get_chunks_by_topic(vectorstore, topic)\n",
    "# Create individual prompt template for each example\n",
    "example_prompt = PromptTemplate.from_template(\n",
    "    \"Topic: {topic}\\nChunks: {chunks}\\nDescriptors: {descriptors}\"\n",
    ")\n",
    "\n",
    "\n",
    "descriptor_prompt = FewShotPromptTemplate(\n",
    "    examples=examples,\n",
    "    example_prompt=example_prompt,\n",
    "    \n",
    "    suffix=template,\n",
    "    input_variables=[\"topic\", \"chunks\"]\n",
    ")\n"
   ]
  },
  {
   "cell_type": "code",
   "execution_count": 39,
   "id": "a114b8f0",
   "metadata": {},
   "outputs": [
    {
     "name": "stderr",
     "output_type": "stream",
     "text": [
      "INFO: HTTP Request: POST https://api.groq.com/openai/v1/chat/completions \"HTTP/1.1 200 OK\"\n"
     ]
    }
   ],
   "source": [
    "final_prompt =descriptor_prompt.format(topic=topic, chunks=chunks)\n",
    "response = llm.predict(final_prompt)"
   ]
  },
  {
   "cell_type": "code",
   "execution_count": 40,
   "id": "ade35b7e",
   "metadata": {},
   "outputs": [
    {
     "name": "stdout",
     "output_type": "stream",
     "text": [
      "{\n",
      "  \"image1\": \"Businesses adhering to international labor standards and sustainability goals\",\n",
      "  \"image2\": \"Infographic illustrating the concept of social responsibility in business\",\n",
      "  \"image3\": \"Real-world example of a company's positive contributions to human betterment\"\n",
      "}\n"
     ]
    }
   ],
   "source": [
    "print(response)"
   ]
  },
  {
   "cell_type": "code",
   "execution_count": 42,
   "id": "235c25bc",
   "metadata": {},
   "outputs": [
    {
     "name": "stdout",
     "output_type": "stream",
     "text": [
      "Businesses adhering to international labor standards and sustainability goals\n",
      "Infographic illustrating the concept of social responsibility in business\n",
      "Real-world example of a company's positive contributions to human betterment\n"
     ]
    }
   ],
   "source": [
    "import json\n",
    "data = json.loads(response)\n",
    "for key, value in data.items():\n",
    "    print(f\"{value}\")"
   ]
  },
  {
   "cell_type": "code",
   "execution_count": 43,
   "id": "56847ed1",
   "metadata": {},
   "outputs": [
    {
     "name": "stderr",
     "output_type": "stream",
     "text": [
      "INFO: response: https://duckduckgo.com/?q=Businesses+adhering+to+international+labor+standards+and+sustainability+goals 200\n",
      "INFO: response: https://duckduckgo.com/i.js?o=json&q=Businesses+adhering+to+international+labor+standards+and+sustainability+goals&l=wt-wt&vqd=4-121164760877349208835404872790448805105&p=-1&f=%2Csize%3ALarge%2Ccolor%3AMonochrome%2C%2C%2C 200\n"
     ]
    },
    {
     "name": "stdout",
     "output_type": "stream",
     "text": [
      "✅ Downloaded image1\n"
     ]
    },
    {
     "name": "stderr",
     "output_type": "stream",
     "text": [
      "INFO: response: https://duckduckgo.com/?q=Infographic+illustrating+the+concept+of+social+responsibility+in+business 200\n",
      "INFO: response: https://duckduckgo.com/i.js?o=json&q=Infographic+illustrating+the+concept+of+social+responsibility+in+business&l=wt-wt&vqd=4-190511171879239057419244076364617071959&p=-1&f=%2Csize%3ALarge%2Ccolor%3AMonochrome%2C%2C%2C 200\n"
     ]
    },
    {
     "name": "stdout",
     "output_type": "stream",
     "text": [
      "✅ Downloaded image2\n"
     ]
    },
    {
     "name": "stderr",
     "output_type": "stream",
     "text": [
      "INFO: response: https://duckduckgo.com/?q=Real-world+example+of+a+company%27s+positive+contributions+to+human+betterment 200\n",
      "INFO: response: https://duckduckgo.com/i.js?o=json&q=Real-world+example+of+a+company%27s+positive+contributions+to+human+betterment&l=wt-wt&vqd=4-253437527878616308116602332211121310677&p=-1&f=%2Csize%3ALarge%2Ccolor%3AMonochrome%2C%2C%2C 200\n"
     ]
    },
    {
     "name": "stdout",
     "output_type": "stream",
     "text": [
      "✅ Downloaded image3\n"
     ]
    }
   ],
   "source": [
    "from duckduckgo_search import DDGS\n",
    "import requests\n",
    "import os\n",
    "from PIL import Image\n",
    "from io import BytesIO\n",
    "import time\n",
    "\n",
    "\n",
    "os.makedirs(\"retrieved_images\", exist_ok=True)\n",
    "\n",
    "def try_download(image_url, filepath):\n",
    "    try:\n",
    "        res = requests.get(image_url, timeout=5)\n",
    "        if res.status_code == 200 and 'image' in res.headers.get('Content-Type', ''):\n",
    "            with open(filepath, 'wb') as f:\n",
    "                f.write(res.content)\n",
    "            return True\n",
    "    except:\n",
    "        pass\n",
    "    return False\n",
    "def is_valid_image(image_bytes, min_width=400, min_height=300, min_size_kb=30):\n",
    "    try:\n",
    "        img = Image.open(BytesIO(image_bytes))\n",
    "        width, height = img.size\n",
    "        file_size_kb = len(image_bytes) / 1024\n",
    "        return width >= min_width and height >= min_height and file_size_kb >= min_size_kb\n",
    "    except:\n",
    "        return False\n",
    "ddgs = DDGS()\n",
    "for key, query in data.items():\n",
    "    time.sleep(10)  # Be kind to the API and avoid rate limiting\n",
    "    results = ddgs.images(\n",
    "        keywords=query,\n",
    "        region=\"wt-wt\",\n",
    "        safesearch=\"off\",\n",
    "        size='Large',\n",
    "        color=\"Monochrome\",\n",
    "        type_image=None,\n",
    "        layout=None,\n",
    "        license_image=None,\n",
    "        max_results=3,\n",
    "    )\n",
    "\n",
    "    found = False\n",
    "    for r in results:\n",
    "        if try_download(r['image'], f\"retrieved_images/{key}.jpg\") and is_valid_image(requests.get(r['image']).content):\n",
    "            print(f\"✅ Downloaded {key}\")\n",
    "            found = True\n",
    "            break\n",
    "    if not found:\n",
    "        print(f\"❌ Failed to download any valid image for {key}\")\n"
   ]
  },
  {
   "cell_type": "code",
   "execution_count": 28,
   "id": "5a2b37e4",
   "metadata": {},
   "outputs": [],
   "source": [
    "from transformers import BlipProcessor, BlipForConditionalGeneration\n",
    "\n",
    "processor = BlipProcessor.from_pretrained(\"Salesforce/blip-image-captioning-base\",use_fast=True)\n",
    "model = BlipForConditionalGeneration.from_pretrained(\"Salesforce/blip-image-captioning-base\")\n"
   ]
  },
  {
   "cell_type": "code",
   "execution_count": 29,
   "id": "1df77c10",
   "metadata": {},
   "outputs": [],
   "source": [
    "speech_prompt_template = \"\"\"\n",
    "You are an expert educator.\n",
    "\n",
    "You are shown an image related to the topic: **\"{topic}\"**.\n",
    "\n",
    "You are provided with:\n",
    "- A **caption**: a textual description generated by a vision-language model (may be vague or incorrect).\n",
    "- **Extracted text**: raw OCR results from the image (may be messy or incomplete).\n",
    "- **Chunks**: trusted educational content related to the topic.\n",
    "\n",
    "Your task is to write a short, **educational audio narration (max 3 sentences-100 words)** that clearly explains the image for a learner. \n",
    "\n",
    "Guidelines:\n",
    "- Use the **caption** only if it seems valid and relevant.\n",
    "- It can interpret the graph plots or flowcharts as **persons body or object** then ignore the caption.\n",
    "- Use the **OCR text** to understand any visible formulas, labels, or structure — but ignore gibberish.\n",
    "- Use the **chunks** to ground your explanation in actual academic content.\n",
    "- Only use the relevant parts of the chunks that relate to the image.\n",
    "- Do **not** assume anything beyond what can be inferred from the image and the chunks.\n",
    "- Explain what's happening **visually**, like describing a process flow, a graph trend, or what a diagram shows.\n",
    "- Avoid technical fluff. Be clear, concise, and engaging.\n",
    "- Start with phrases like **\"In this image...\"**, **\"You can see...\"**, or **\"The diagram illustrates...\"**\n",
    "\n",
    "\n",
    "\n",
    "Return only the narration .Do not include any labels,prefixes,or formatting\n",
    "\n",
    "---\n",
    "\n",
    "\n",
    "rules:\n",
    "- Do not use JSON formatting or code or heading or sub-headings — just follow the shown format\n",
    "- just give the speech (i.e if it starts from \"in this image...\" the output should start with \"In this image...\")\n",
    "\n",
    "**Caption**:\n",
    "{caption}\n",
    "\n",
    "**Extracted Text**:\n",
    "{ocr_text}\n",
    "\n",
    "**Content Chunks**:\n",
    "{chunks}\n",
    "\n",
    "---\n",
    "\n",
    "Please write a narrated speech for this visual (up to 3 sentences):\n",
    "\"\"\"\n",
    "\n",
    "\n"
   ]
  },
  {
   "cell_type": "code",
   "execution_count": 31,
   "id": "6c94f0cb",
   "metadata": {},
   "outputs": [],
   "source": [
    "from langchain.prompts import PromptTemplate\n",
    "speech_prompt = PromptTemplate.from_template(speech_prompt_template)\n"
   ]
  },
  {
   "cell_type": "code",
   "execution_count": 44,
   "id": "85660dec",
   "metadata": {},
   "outputs": [
    {
     "name": "stdout",
     "output_type": "stream",
     "text": [
      "•Related international standards and best practice, such as those from the International Labour Organization\n",
      "•A business’s own stated sustainability goals,•“By social responsibility, we mean the intelligent and objective concern for the welfare of society that restrains individual and corporate behaviour from ultimately destructive activities, no matter how immediately profitable and leads in the direction of positive contributions to human betterment, variously as the latter may be defined.”,Definition of Social Responsibility\n",
      "•“Social responsibilities refer to the businessman‟s decisions and actions taken to reasons at least partially beyond the firm‟s direct economic or technical interest.”,•These would be determined and would vary from case to case according to the customs, religions, traditions, level of industrialization and a host of other norms and standards about which there is a public consensus at any given time in a given society.\n",
      "•According to Keith Davis, the term social responsibility refers to two types of business obligations:,Social Responsibilities of Business\n",
      "•Social responsibility is a doctrine that claims that an entity whether it is state, government, corporation, organisation or individual, has a responsibility to society\n",
      "•Meaning of Social Responsibility:Adolph Berle has defined social responsibility as the manager‟s responsiveness to public consensus\n"
     ]
    }
   ],
   "source": [
    "topic = \"Social Responsibilities of Business\"  # or input(\"Enter topic: \")\n",
    "chunks = get_chunks_by_topic(vectorstore, topic)\n",
    "print(\",\".join(chunks).strip())"
   ]
  },
  {
   "cell_type": "code",
   "execution_count": 45,
   "id": "5246e8c5",
   "metadata": {},
   "outputs": [
    {
     "name": "stdout",
     "output_type": "stream",
     "text": [
      "¢ Globalizaiton of\n",
      "\n",
      "® Do labor standar\n",
      "\n",
      "sus\n",
      "Wie\n",
      "\n",
      "« Social Dumping\n",
      "\n",
      "trade\n",
      "\n",
      "believe sO, bul ne prot\n",
      "\n",
      "e between developed and ¢\n",
      "\n",
      "i\n",
      "\n",
      "nN\n",
      "\n",
      "elk DIN 1\n",
      "\n"
     ]
    },
    {
     "name": "stderr",
     "output_type": "stream",
     "text": [
      "INFO: HTTP Request: POST https://api.groq.com/openai/v1/chat/completions \"HTTP/1.1 200 OK\"\n"
     ]
    },
    {
     "name": "stdout",
     "output_type": "stream",
     "text": [
      "In this image, you can see a discussion about whether businesses should care about international labor standards. The diagram illustrates the concept of social dumping, where businesses in developed countries take advantage of cheaper labor in other countries, potentially harming workers and local economies. This highlights the importance of considering social responsibility in business decisions, as discussed in the definition by Adolph Berle, where managers must be responsive to public consensus.\n",
      "\n"
     ]
    },
    {
     "name": "stderr",
     "output_type": "stream",
     "text": [
      "INFO: HTTP Request: POST https://api.groq.com/openai/v1/chat/completions \"HTTP/1.1 200 OK\"\n"
     ]
    },
    {
     "name": "stdout",
     "output_type": "stream",
     "text": [
      "In this image, you can see a pyramid with the words at the top and the words below it, illustrating the different levels of social responsibility that a business may have. The top level represents the business's own stated sustainability goals, while the lower levels show the various international standards and best practices that guide a business's social responsibility, such as those from the International Labour Organization. This pyramid structure highlights the importance of balancing a business's economic interests with its social obligations to society.\n",
      "\n"
     ]
    },
    {
     "name": "stderr",
     "output_type": "stream",
     "text": [
      "INFO: HTTP Request: POST https://api.groq.com/openai/v1/chat/completions \"HTTP/1.1 200 OK\"\n"
     ]
    },
    {
     "name": "stdout",
     "output_type": "stream",
     "text": [
      "In this image, you can see a diagram illustrating the concept of social responsibility in business. The diagram shows how a business's decisions and actions are influenced by various factors, including international standards, best practices, and its own sustainability goals. This aligns with the definition of social responsibility, which refers to a business's responsiveness to public consensus and its decisions and actions taken to contribute positively to human betterment.\n",
      "Results saved to results.json\n"
     ]
    }
   ],
   "source": [
    "all_results ={}\n",
    "import os\n",
    "import json\n",
    "import cv2\n",
    "import pytesseract\n",
    "from PIL import Image\n",
    "import torch\n",
    "for file in os.listdir(\"retrieved_images\"):\n",
    "    if not file.lower().endswith(('.png', '.jpg', '.jpeg')):\n",
    "        continue  \n",
    "    img_path = os.path.join(\"retrieved_images\", file)\n",
    "    img_cv = cv2.imread(img_path)\n",
    "    gray = cv2.cvtColor(img_cv, cv2.COLOR_BGR2RGB)  #\n",
    "    _,thresh = cv2.threshold(gray, 0, 255, cv2.THRESH_BINARY)\n",
    "\n",
    "    img_processeed = Image.fromarray(thresh)\n",
    "    extracted_text   = pytesseract.image_to_string(img_processeed)\n",
    "    print(extracted_text) \n",
    "    image = Image.open(img_path).convert(\"RGB\")\n",
    "    inputs = processor(image,\"The image is a \", return_tensors=\"pt\").to(\"cuda\" if torch.cuda.is_available() else \"cpu\")\n",
    "    with torch.no_grad():\n",
    "        generated_ids = model.generate(**inputs, max_new_tokens=50)\n",
    "        caption = processor.decode(generated_ids[0], skip_special_tokens=True)\n",
    "    final_prompt = speech_prompt.format(\n",
    "    topic=topic,\n",
    "    chunks=\",\".join(chunks).strip(),\n",
    "    ocr_text=extracted_text.strip(),\n",
    "    caption=caption.strip(),\n",
    "    )\n",
    "    response = llm.invoke(final_prompt)\n",
    "    print(response.content)\n",
    "    all_results[file] = {\n",
    "        \"caption\": caption.strip(),\n",
    "        \"extracted_text\": extracted_text.strip(),\n",
    "        \"speech\": response.content.strip()\n",
    "    }\n",
    "with open(\"results.json\", \"w\",encoding=\"utf-8\") as f:\n",
    "    json.dump(all_results, f, ensure_ascii=False, indent=2)\n",
    "print(\"Results saved to results.json\")\n",
    "\n",
    "    \n",
    "        \n",
    "\n",
    "    # Path to your image file   \n",
    "\n",
    "    "
   ]
  },
  {
   "cell_type": "code",
   "execution_count": 46,
   "id": "c746254b",
   "metadata": {},
   "outputs": [
    {
     "name": "stdout",
     "output_type": "stream",
     "text": [
      "Audio saved for image1.jpg\n",
      "Audio saved for image2.jpg\n",
      "Audio saved for image3.jpg\n"
     ]
    }
   ],
   "source": [
    "import json\n",
    "import pyttsx3\n",
    "import os\n",
    "os.makedirs(\"audio_files\", exist_ok=True)\n",
    "\n",
    "engine = pyttsx3.init()\n",
    "engine.setProperty('rate', 170)  # Set speech rate\n",
    "voices = engine.getProperty('voices')\n",
    "\n",
    "# Select male voice (usually index 0 or try looping to find one)\n",
    "for voice in voices:\n",
    "    if 'male' in voice.name.lower():\n",
    "        engine.setProperty('voice', voice.id)\n",
    "        break\n",
    "\n",
    "\n",
    "with open(\"results.json\", \"r\", encoding=\"utf-8\") as f:\n",
    "    results = json.load(f)\n",
    "for file, data in results.items():\n",
    "    speech_text = data[\"speech\"]\n",
    "    if speech_text.strip():\n",
    "        engine.save_to_file(speech_text, f\"audio_files/{file}.mp3\")\n",
    "        print(f\"Audio saved for {file}\")\n",
    "    else:   \n",
    "        print(f\"No speech generated for {file}, skipping audio generation.\")\n",
    "engine.runAndWait() \n",
    "    \n",
    "   \n",
    "    \n",
    "    \n",
    "    "
   ]
  },
  {
   "cell_type": "code",
   "execution_count": null,
   "id": "ed8af73f",
   "metadata": {},
   "outputs": [
    {
     "name": "stderr",
     "output_type": "stream",
     "text": [
      "INFO: HTTP Request: POST https://api.groq.com/openai/v1/chat/completions \"HTTP/1.1 200 OK\"\n"
     ]
    }
   ],
   "source": [
    "from langchain.prompts import PromptTemplate\n",
    "from langchain.chains import RetrievalQA\n",
    "\n",
    "prompt_template = \"\"\"You are a helpful assistant. \n",
    "Use ONLY the following context to answer the question. \n",
    "Do NOT use any prior knowledge. \n",
    "If the answer is not in the context, respond with \"The answer is not available in the provided context.\"\n",
    "\n",
    "Context:\n",
    "{context}\n",
    "\n",
    "Question:\n",
    "{question}\n",
    "\n",
    "Answer:\"\"\"\n",
    "\n",
    "prompt = PromptTemplate(\n",
    "    input_variables=[\"context\", \"question\"],\n",
    "    template=prompt_template,\n",
    ")\n",
    "\n",
    "qa_chain = RetrievalQA.from_chain_type(\n",
    "    llm=llm,\n",
    "    retriever=retriever,\n",
    "    chain_type_kwargs={\"prompt\": prompt},\n",
    "    return_source_documents=True\n",
    ")\n",
    "\n",
    "\n",
    "\n",
    "#agent \n",
    "\n",
    "query = \"what is used to  capture the frequency of individul words in a document?\"\n",
    "result = qa_chain.invoke({\"query\": query})\n",
    "\n",
    "\n",
    "\n",
    "\n"
   ]
  },
  {
   "cell_type": "code",
   "execution_count": 47,
   "id": "407aa6b8",
   "metadata": {},
   "outputs": [],
   "source": [
    "import os\n",
    "import json\n",
    "from datetime import timedelta\n",
    "\n",
    "\n",
    "# === STEP 1: Utilities for Subtitle Generation ===\n",
    "\n",
    "def estimate_timings(speech_text, wpm):\n",
    "    sentences = [s.strip() for s in speech_text.split('.') if s.strip()]\n",
    "    subtitles = []\n",
    "    start = 0.0\n",
    "    for i, sentence in enumerate(sentences):\n",
    "        word_count = len(sentence.split())\n",
    "        duration = word_count / (wpm / 60.0)  # in seconds\n",
    "        end = start + duration\n",
    "        subtitles.append((i+1, start, end, sentence + '.'))\n",
    "        start = end\n",
    "    return subtitles\n",
    "\n",
    "def format_time(seconds):\n",
    "    td = str(timedelta(seconds=seconds)).split(\".\")[0]\n",
    "    return td + \",000\"\n",
    "\n",
    "def write_srt(subtitles, filepath):\n",
    "    with open(filepath, \"w\", encoding=\"utf-8\") as f:\n",
    "        for idx, start, end, sentence in subtitles:\n",
    "            f.write(f\"{idx}\\n\")\n",
    "            f.write(f\"{format_time(start)} --> {format_time(end)}\\n\")\n",
    "            f.write(f\"{sentence}\\n\\n\")\n",
    "\n",
    "\n"
   ]
  },
  {
   "cell_type": "code",
   "execution_count": 50,
   "id": "1794a0e9",
   "metadata": {},
   "outputs": [
    {
     "name": "stdout",
     "output_type": "stream",
     "text": [
      "MoviePy - Building video final_video/final_combined_video.mp4.\n",
      "MoviePy - Writing audio in final_combined_videoTEMP_MPY_wvf_snd.mp3\n"
     ]
    },
    {
     "name": "stderr",
     "output_type": "stream",
     "text": [
      "                                                                      \r"
     ]
    },
    {
     "name": "stdout",
     "output_type": "stream",
     "text": [
      "MoviePy - Done.\n",
      "MoviePy - Writing video final_video/final_combined_video.mp4\n",
      "\n"
     ]
    },
    {
     "name": "stderr",
     "output_type": "stream",
     "text": [
      "                                                                          "
     ]
    },
    {
     "name": "stdout",
     "output_type": "stream",
     "text": [
      "MoviePy - Done !\n",
      "MoviePy - video ready final_video/final_combined_video.mp4\n"
     ]
    },
    {
     "name": "stderr",
     "output_type": "stream",
     "text": [
      "\r"
     ]
    }
   ],
   "source": [
    "#captions\n",
    "import json\n",
    "from moviepy import ImageClip, AudioFileClip, TextClip, CompositeVideoClip, concatenate_videoclips\n",
    "import os\n",
    "\n",
    "# Ensure output directory exists\n",
    "os.makedirs(\"final_video\", exist_ok=True)\n",
    "\n",
    "# Load results\n",
    "with open(\"results.json\", \"r\") as f:\n",
    "    results = json.load(f)\n",
    "\n",
    "all_video_clips = []\n",
    "caption_width = 1000\n",
    "\n",
    "for key, value in results.items():\n",
    "    image_path = f\"retrieved_images/{key}\"\n",
    "    audio_path = f\"audio_files/{key}.mp3\"\n",
    "    speech = value[\"speech\"]\n",
    "    \n",
    "    \n",
    "    # Estimate subtitle timings\n",
    "    subtitles = estimate_timings(speech,150)  # Should return list of (idx, start, end, sentence)\n",
    "\n",
    "    # Load image and audio\n",
    "    image_clip = ImageClip(image_path).resized((1280, 720))  # Resize to 1280x720\n",
    "    audio_clip = AudioFileClip(audio_path)\n",
    "    duration = audio_clip.duration\n",
    "    image_clip = image_clip.with_duration(duration)\n",
    "    image_clip.audio = audio_clip.subclipped(0, duration)\n",
    "\n",
    "    # Generate subtitle text cli\n",
    "    text_clips = []\n",
    "    for idx, start, end, sentence in subtitles:\n",
    "        txt = TextClip(\n",
    "            text=sentence,\n",
    "            font_size=33,\n",
    "            size=(caption_width, 100),\n",
    "            method=\"caption\",\n",
    "            color='black',\n",
    "           \n",
    "        )\n",
    "        txt = txt.with_start(start).with_duration(end - start).with_position('bottom')\n",
    "        text_clips.append(txt)\n",
    "\n",
    "    # Combine image and subtitles\n",
    "    composite = CompositeVideoClip([image_clip] + text_clips)\n",
    "    all_video_clips.append(composite)\n",
    "\n",
    "# Concatenate all clips into a single video\n",
    "final_video = concatenate_videoclips(all_video_clips)\n",
    "final_video.write_videofile(\"final_video/final_combined_video.mp4\", fps=24)\n"
   ]
  },
  {
   "cell_type": "code",
   "execution_count": null,
   "id": "79f95d4d",
   "metadata": {},
   "outputs": [
    {
     "name": "stdout",
     "output_type": "stream",
     "text": [
      "MoviePy - Building video final_video/final_combined_video.mp4.\n",
      "MoviePy - Writing audio in final_combined_videoTEMP_MPY_wvf_snd.mp3\n"
     ]
    },
    {
     "name": "stderr",
     "output_type": "stream",
     "text": [
      "                                                                      \r"
     ]
    },
    {
     "name": "stdout",
     "output_type": "stream",
     "text": [
      "MoviePy - Done.\n",
      "MoviePy - Writing video final_video/final_combined_video.mp4\n",
      "\n"
     ]
    },
    {
     "name": "stderr",
     "output_type": "stream",
     "text": [
      "                                                                           \r"
     ]
    },
    {
     "name": "stdout",
     "output_type": "stream",
     "text": [
      "MoviePy - Done !\n",
      "MoviePy - video ready final_video/final_combined_video.mp4\n"
     ]
    }
   ],
   "source": [
    "#without captions\n",
    "import json\n",
    "from moviepy import ImageClip, AudioFileClip, CompositeVideoClip, concatenate_videoclips\n",
    "import os\n",
    "\n",
    "# Ensure output directory exists\n",
    "os.makedirs(\"final_video\", exist_ok=True)\n",
    "\n",
    "# Load results\n",
    "with open(\"results.json\", \"r\") as f:\n",
    "    results = json.load(f)\n",
    "\n",
    "all_video_clips = []\n",
    "\n",
    "for key, value in results.items():\n",
    "    image_path = f\"retrieved_images/{key}\"\n",
    "    audio_path = f\"audio_files/{key}.mp3\"\n",
    "\n",
    "    # Load and resize image, load audio\n",
    "    image_clip = ImageClip(image_path).resized((1280, 720))\n",
    "    audio_clip = AudioFileClip(audio_path)\n",
    "\n",
    "    # Set duration and audio\n",
    "    duration = audio_clip.duration\n",
    "    image_clip = image_clip.with_duration(duration)\n",
    "    image_clip.audio = audio_clip.subclipped(0, duration)\n",
    "\n",
    "    # Append to the video clips list\n",
    "    all_video_clips.append(image_clip)\n",
    "\n",
    "# Concatenate all clips into a single video\n",
    "final_video = concatenate_videoclips(all_video_clips)\n",
    "final_video.write_videofile(\"final_video/final_combined_video_without_caption.mp4\", fps=24)\n"
   ]
  },
  {
   "cell_type": "code",
   "execution_count": null,
   "id": "df5858be",
   "metadata": {},
   "outputs": [],
   "source": []
  }
 ],
 "metadata": {
  "kernelspec": {
   "display_name": "Python 3",
   "language": "python",
   "name": "python3"
  },
  "language_info": {
   "codemirror_mode": {
    "name": "ipython",
    "version": 3
   },
   "file_extension": ".py",
   "mimetype": "text/x-python",
   "name": "python",
   "nbconvert_exporter": "python",
   "pygments_lexer": "ipython3",
   "version": "3.12.0"
  }
 },
 "nbformat": 4,
 "nbformat_minor": 5
}
